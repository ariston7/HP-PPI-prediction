{
 "cells": [
  {
   "cell_type": "markdown",
   "metadata": {},
   "source": [
    "# 4. Training a Machine Learning Classifier for HP-PPI Prediction Task\n",
    "\n",
    "Classifier: Logistic Regression"
   ]
  },
  {
   "cell_type": "code",
   "execution_count": 1,
   "metadata": {},
   "outputs": [
    {
     "name": "stderr",
     "output_type": "stream",
     "text": [
      "/home/rei/anaconda3/lib/python3.6/site-packages/sklearn/externals/joblib/__init__.py:15: DeprecationWarning: sklearn.externals.joblib is deprecated in 0.21 and will be removed in 0.23. Please import this functionality directly from joblib, which can be installed with: pip install joblib. If this warning is raised when loading pickled models, you may need to re-serialize those models with scikit-learn 0.21+.\n",
      "  warnings.warn(msg, category=DeprecationWarning)\n"
     ]
    }
   ],
   "source": [
    "import os\n",
    "import joblib\n",
    "\n",
    "import numpy as np\n",
    "import pandas as pd\n",
    "import matplotlib.pyplot as plt\n",
    "from scipy import sparse\n",
    "\n",
    "from sklearn.linear_model import LogisticRegression\n",
    "from sklearn.preprocessing import MaxAbsScaler\n",
    "from sklearn.pipeline import Pipeline\n",
    "\n",
    "from sklearn.model_selection import train_test_split, StratifiedKFold\n",
    "from sklearn.metrics import classification_report, confusion_matrix\n",
    "from skopt import BayesSearchCV\n",
    "\n",
    "from IPython.display import display, Markdown\n",
    "\n",
    "# Suppress warnings\n",
    "import warnings\n",
    "from sklearn.exceptions import UndefinedMetricWarning, ChangedBehaviorWarning\n",
    "\n",
    "warnings.simplefilter('ignore', category=(UndefinedMetricWarning,\n",
    "                                          ChangedBehaviorWarning,\n",
    "                                          UserWarning,\n",
    "                                          DeprecationWarning,\n",
    "                                          RuntimeWarning))"
   ]
  },
  {
   "cell_type": "code",
   "execution_count": 2,
   "metadata": {},
   "outputs": [],
   "source": [
    "# Set up directories\n",
    "SEED = 149028763\n",
    "parent_dir = os.path.dirname(os.getcwd())\n",
    "\n",
    "dir_in = os.path.join(parent_dir, 'processed_data', 'features')\n",
    "dir_out = os.path.join(parent_dir, 'analyses')"
   ]
  },
  {
   "cell_type": "code",
   "execution_count": 3,
   "metadata": {},
   "outputs": [],
   "source": [
    "# Function for combining datasets\n",
    "def get_dataset(pathogens):\n",
    "    '''Combine features and labels of different pathogen datasets'''\n",
    "    \n",
    "    X = []\n",
    "    y = []\n",
    "    \n",
    "    # Iterate through datasets\n",
    "    for pathogen in pathogens:\n",
    "        f_in = os.path.join(dir_in, '%s_features.pkl' % pathogen)\n",
    "        X_, y_ = joblib.load(f_in)\n",
    "        X.append(X_)\n",
    "        y.append(y_)\n",
    "    \n",
    "    # Combine features (X) and labels (y)\n",
    "    X = sparse.vstack(X)\n",
    "    y = np.concatenate(y)\n",
    "    \n",
    "    return X, y"
   ]
  },
  {
   "cell_type": "code",
   "execution_count": 4,
   "metadata": {},
   "outputs": [
    {
     "name": "stdout",
     "output_type": "stream",
     "text": [
      "Loaded 105822 samples with 4456 features\n"
     ]
    }
   ],
   "source": [
    "# Load all datasets\n",
    "pathogens = ['Bacan', 'Yerpe', 'Fratu']\n",
    "X, y = get_dataset(pathogens)\n",
    "print('Loaded %i samples with %i features' % X.shape)\n",
    "\n",
    "# Split data for training and testing\n",
    "X_train, X_test, y_train, y_test = train_test_split(X, y, test_size = 0.2, stratify=y,\n",
    "                                                    random_state=SEED)"
   ]
  },
  {
   "cell_type": "markdown",
   "metadata": {},
   "source": [
    "## Hyperparameter Tuning\n",
    "\n",
    "Bayesian search on `LogisticRegression` with `BayesSearchCV`"
   ]
  },
  {
   "cell_type": "code",
   "execution_count": 5,
   "metadata": {},
   "outputs": [],
   "source": [
    "# Set up classifier pipeline\n",
    "estimator = LogisticRegression(solver='liblinear', penalty='l1',\n",
    "                               max_iter=2000, random_state=SEED)\n",
    "\n",
    "pipe = Pipeline([('scaler', MaxAbsScaler()), ('clf', estimator)])"
   ]
  },
  {
   "cell_type": "code",
   "execution_count": 6,
   "metadata": {},
   "outputs": [],
   "source": [
    "# Callback function\n",
    "def status_print(optim_result):\n",
    "    \"\"\"Status callback durring Bayesian hyperparameter search\"\"\"\n",
    "    \n",
    "    # Get current parameters and the best parameters \n",
    "    n = len(pd.DataFrame(opt.cv_results_))\n",
    "    print('Iteration %i, best %s score: %.6f'\\\n",
    "          % (n, scoring, opt.best_score_))"
   ]
  },
  {
   "cell_type": "code",
   "execution_count": 7,
   "metadata": {
    "scrolled": true
   },
   "outputs": [
    {
     "name": "stdout",
     "output_type": "stream",
     "text": [
      "Iteration 1, best neg_log_loss score: -0.112972\n",
      "Iteration 2, best neg_log_loss score: -0.109703\n",
      "Iteration 3, best neg_log_loss score: -0.109701\n",
      "Iteration 4, best neg_log_loss score: -0.109701\n",
      "Iteration 5, best neg_log_loss score: -0.109701\n",
      "Iteration 6, best neg_log_loss score: -0.109701\n",
      "Iteration 7, best neg_log_loss score: -0.109701\n",
      "Iteration 8, best neg_log_loss score: -0.109701\n",
      "Iteration 9, best neg_log_loss score: -0.109701\n",
      "Iteration 10, best neg_log_loss score: -0.109701\n",
      "Iteration 11, best neg_log_loss score: -0.109701\n",
      "Iteration 12, best neg_log_loss score: -0.109701\n",
      "Iteration 13, best neg_log_loss score: -0.109701\n",
      "Iteration 14, best neg_log_loss score: -0.109701\n",
      "Iteration 15, best neg_log_loss score: -0.109701\n",
      "Iteration 16, best neg_log_loss score: -0.109701\n",
      "Iteration 17, best neg_log_loss score: -0.109701\n",
      "Iteration 18, best neg_log_loss score: -0.109701\n",
      "Iteration 19, best neg_log_loss score: -0.109701\n",
      "Iteration 20, best neg_log_loss score: -0.109701\n"
     ]
    }
   ],
   "source": [
    "# Perform hyperparameter optimization\n",
    "param_space = {'clf__C': (1, 5, 'uniform')}\n",
    "\n",
    "cv = StratifiedKFold(n_splits=5, shuffle=True, random_state=SEED)\n",
    "scoring = 'neg_log_loss'\n",
    "\n",
    "opt = BayesSearchCV(pipe, param_space,cv=cv, scoring=scoring, n_iter=20,\n",
    "                    n_jobs=5, verbose=0, random_state=SEED)\n",
    "\n",
    "cv_results = opt.fit(X_train, y_train, callback=status_print)"
   ]
  },
  {
   "cell_type": "code",
   "execution_count": 8,
   "metadata": {},
   "outputs": [
    {
     "data": {
      "text/plain": [
       "{'clf__C': 2.6374624571220413}"
      ]
     },
     "execution_count": 8,
     "metadata": {},
     "output_type": "execute_result"
    },
    {
     "name": "stdout",
     "output_type": "stream",
     "text": [
      "Test neg_log_loss score: -0.0988\n"
     ]
    }
   ],
   "source": [
    "# Set best estimator as classifier\n",
    "opt.best_params_\n",
    "\n",
    "print('Test %s score: %.4f' % (scoring, opt.score(X_test, y_test)))\n",
    "pipe = opt.best_estimator_"
   ]
  },
  {
   "cell_type": "code",
   "execution_count": 9,
   "metadata": {},
   "outputs": [],
   "source": [
    "# Define custom function for generating confusion matrices\n",
    "def plot_confusion_matrix(y_true, y_pred, labels, cmap=plt.cm.Blues):\n",
    "    '''\n",
    "    Generate a confusion matrix from true and predicted labels.\n",
    "    '''\n",
    "    \n",
    "    # Compute confusion matrix\n",
    "    cm = confusion_matrix(y_true, y_pred, labels=labels)\n",
    "    \n",
    "    # Normalize confusion matrix\n",
    "    cm_norm = cm.astype('float') / cm.sum(axis=1)[:, np.newaxis]\n",
    "\n",
    "    fig, ax = plt.subplots()\n",
    "    im = ax.imshow(cm_norm, interpolation='nearest', cmap=cmap)\n",
    "    plt.colorbar(mappable=im)\n",
    "    ax.set(xticks=np.arange(cm.shape[1]),\n",
    "           yticks=np.arange(cm.shape[0]),\n",
    "           xticklabels=labels,\n",
    "           yticklabels=labels,\n",
    "           title='Confusion Matrix\\n',\n",
    "           ylabel='True label',\n",
    "           xlabel='Predicted label')\n",
    "\n",
    "    # Rotate the tick labels and set their alignment.\n",
    "    #plt.setp(ax.get_xticklabels(), rotation=45, ha=\"right\",\n",
    "    #         rotation_mode=\"anchor\")\n",
    "\n",
    "    # Loop over data dimensions and create text annotations.\n",
    "    thresh = cm_norm.max() / 2.\n",
    "    for i in range(cm.shape[0]):\n",
    "        for j in range(cm.shape[1]):\n",
    "            ax.text(j, i, '{:.2f}%\\n({})'.format(cm_norm[i, j]*100, cm[i, j]),\n",
    "                    ha=\"center\", va=\"center\",\n",
    "                    color=\"white\" if cm_norm[i, j] > thresh else \"black\")\n",
    "    fig.tight_layout()\n",
    "    return ax"
   ]
  },
  {
   "cell_type": "code",
   "execution_count": 10,
   "metadata": {
    "scrolled": false
   },
   "outputs": [
    {
     "name": "stdout",
     "output_type": "stream",
     "text": [
      "              precision    recall  f1-score   support\n",
      "\n",
      "           0     0.9783    0.9981    0.9881     19657\n",
      "           1     0.9666    0.7109    0.8193      1508\n",
      "\n",
      "    accuracy                         0.9777     21165\n",
      "   macro avg     0.9724    0.8545    0.9037     21165\n",
      "weighted avg     0.9774    0.9777    0.9761     21165\n",
      "\n"
     ]
    },
    {
     "data": {
      "image/png": "[encoded data removed]",
      "text/plain": [
       "<Figure size 432x288 with 2 Axes>"
      ]
     },
     "metadata": {},
     "output_type": "display_data"
    }
   ],
   "source": [
    "# Evaluate model\n",
    "\n",
    "y_pred = pipe.predict(X_test)\n",
    "y_proba = pipe.predict_proba(X_test)\n",
    "\n",
    "print(classification_report(y_test, y_pred, digits=4))\n",
    "\n",
    "# Plot metrics\n",
    "_ = plot_confusion_matrix(y_test, y_pred, labels=[1,0])\n",
    "_ = plt.show()"
   ]
  },
  {
   "cell_type": "markdown",
   "metadata": {},
   "source": [
    "## Evaluate model on partitioned datasets"
   ]
  },
  {
   "cell_type": "code",
   "execution_count": 11,
   "metadata": {
    "scrolled": false
   },
   "outputs": [
    {
     "name": "stdout",
     "output_type": "stream",
     "text": [
      "                               Test 1                                \n",
      "                          Test Pathogen: Bacan\n",
      "                          \n",
      "              precision    recall  f1-score   support\n",
      "\n",
      "           0     0.9746    0.9620    0.9683     36476\n",
      "           1     0.5716    0.6686    0.6163      2764\n",
      "\n",
      "    accuracy                         0.9414     39240\n",
      "   macro avg     0.7731    0.8153    0.7923     39240\n",
      "weighted avg     0.9462    0.9414    0.9435     39240\n",
      "\n"
     ]
    },
    {
     "data": {
      "image/png": "[encoded data removed]",
      "text/plain": [
       "<Figure size 432x288 with 2 Axes>"
      ]
     },
     "metadata": {},
     "output_type": "display_data"
    },
    {
     "data": {
      "text/markdown": [
       "<hr></hr>"
      ],
      "text/plain": [
       "<IPython.core.display.Markdown object>"
      ]
     },
     "metadata": {},
     "output_type": "display_data"
    },
    {
     "name": "stdout",
     "output_type": "stream",
     "text": [
      "                               Test 2                                \n",
      "                          Test Pathogen: Yerpe\n",
      "                          \n",
      "              precision    recall  f1-score   support\n",
      "\n",
      "           0     0.9738    0.9747    0.9742     49151\n",
      "           1     0.6491    0.6409    0.6450      3590\n",
      "\n",
      "    accuracy                         0.9520     52741\n",
      "   macro avg     0.8114    0.8078    0.8096     52741\n",
      "weighted avg     0.9517    0.9520    0.9518     52741\n",
      "\n"
     ]
    },
    {
     "data": {
      "image/png": "[encoded data removed]",
      "text/plain": [
       "<Figure size 432x288 with 2 Axes>"
      ]
     },
     "metadata": {},
     "output_type": "display_data"
    },
    {
     "data": {
      "text/markdown": [
       "<hr></hr>"
      ],
      "text/plain": [
       "<IPython.core.display.Markdown object>"
      ]
     },
     "metadata": {},
     "output_type": "display_data"
    },
    {
     "name": "stdout",
     "output_type": "stream",
     "text": [
      "                               Test 3                                \n",
      "                          Test Pathogen: Fratu\n",
      "                          \n",
      "              precision    recall  f1-score   support\n",
      "\n",
      "           0     0.9762    0.9783    0.9773     12654\n",
      "           1     0.7636    0.7456    0.7545      1187\n",
      "\n",
      "    accuracy                         0.9584     13841\n",
      "   macro avg     0.8699    0.8620    0.8659     13841\n",
      "weighted avg     0.9580    0.9584    0.9582     13841\n",
      "\n"
     ]
    },
    {
     "data": {
      "image/png": "[encoded data removed]",
      "text/plain": [
       "<Figure size 432x288 with 2 Axes>"
      ]
     },
     "metadata": {},
     "output_type": "display_data"
    },
    {
     "data": {
      "text/markdown": [
       "<hr></hr>"
      ],
      "text/plain": [
       "<IPython.core.display.Markdown object>"
      ]
     },
     "metadata": {},
     "output_type": "display_data"
    }
   ],
   "source": [
    "# Train and test classifier on different datasets\n",
    "## Partition datasets by pathogen species\n",
    "%matplotlib inline\n",
    "i = 0 # track number of tests\n",
    "\n",
    "for p_test in pathogens:\n",
    "    p_train = [p for p in pathogens if p != p_test]\n",
    "    X_train, y_train = get_dataset(p_train)\n",
    "    \n",
    "    # Train pipeline\n",
    "    _ = pipe.fit(X_train, y_train)\n",
    "    \n",
    "    # Evaluate performance on test set\n",
    "    X_test, y_test = get_dataset([p_test])\n",
    "    y_pred = pipe.predict(X_test)\n",
    "    y_proba = pipe.predict_proba(X_test)\n",
    "    \n",
    "    i += 1\n",
    "    \n",
    "    print('Test %i'.center(70) % i)\n",
    "    print('Test Pathogen: %s\\n'.center(70) % p_test)\n",
    "    print(classification_report(y_test, y_pred, digits=4))\n",
    "    \n",
    "    # Plot metrics\n",
    "    _ = plot_confusion_matrix(y_test, y_pred, labels=[1,0])\n",
    "    _ = plt.show()\n",
    "    \n",
    "    display(Markdown('<hr></hr>'))"
   ]
  },
  {
   "cell_type": "code",
   "execution_count": 12,
   "metadata": {},
   "outputs": [],
   "source": [
    "# Refit model with the whole dataset\n",
    "_ = pipe.fit(X, y)\n",
    "\n",
    "# Dump model as pickle\n",
    "_ = joblib.dump(pipe, 'best_model.pkl')"
   ]
  },
  {
   "cell_type": "markdown",
   "metadata": {},
   "source": [
    "## Examine feature importances from coefficients"
   ]
  },
  {
   "cell_type": "code",
   "execution_count": 13,
   "metadata": {},
   "outputs": [
    {
     "data": {
      "text/plain": [
       "(4456, 2)"
      ]
     },
     "execution_count": 13,
     "metadata": {},
     "output_type": "execute_result"
    },
    {
     "data": {
      "text/html": [
       "<div>\n",
       "<style scoped>\n",
       "    .dataframe tbody tr th:only-of-type {\n",
       "        vertical-align: middle;\n",
       "    }\n",
       "\n",
       "    .dataframe tbody tr th {\n",
       "        vertical-align: top;\n",
       "    }\n",
       "\n",
       "    .dataframe thead th {\n",
       "        text-align: right;\n",
       "    }\n",
       "</style>\n",
       "<table border=\"1\" class=\"dataframe\">\n",
       "  <thead>\n",
       "    <tr style=\"text-align: right;\">\n",
       "      <th></th>\n",
       "      <th>Description</th>\n",
       "      <th>Coefficient</th>\n",
       "    </tr>\n",
       "    <tr>\n",
       "      <th>Pfam_ID</th>\n",
       "      <th></th>\n",
       "      <th></th>\n",
       "    </tr>\n",
       "  </thead>\n",
       "  <tbody>\n",
       "    <tr>\n",
       "      <th>PF00001</th>\n",
       "      <td>7 transmembrane receptor (rhodopsin family)</td>\n",
       "      <td>-10.014368</td>\n",
       "    </tr>\n",
       "    <tr>\n",
       "      <th>PF00002</th>\n",
       "      <td>7 transmembrane receptor (Secretin family)</td>\n",
       "      <td>2.333709</td>\n",
       "    </tr>\n",
       "    <tr>\n",
       "      <th>PF00004</th>\n",
       "      <td>ATPase family associated with various cellular...</td>\n",
       "      <td>0.510560</td>\n",
       "    </tr>\n",
       "    <tr>\n",
       "      <th>PF00005</th>\n",
       "      <td>ABC transporter</td>\n",
       "      <td>-0.207467</td>\n",
       "    </tr>\n",
       "    <tr>\n",
       "      <th>PF00006</th>\n",
       "      <td>ATP synthase alpha/beta family, nucleotide-bin...</td>\n",
       "      <td>0.175299</td>\n",
       "    </tr>\n",
       "  </tbody>\n",
       "</table>\n",
       "</div>"
      ],
      "text/plain": [
       "                                               Description  Coefficient\n",
       "Pfam_ID                                                                \n",
       "PF00001        7 transmembrane receptor (rhodopsin family)   -10.014368\n",
       "PF00002         7 transmembrane receptor (Secretin family)     2.333709\n",
       "PF00004  ATPase family associated with various cellular...     0.510560\n",
       "PF00005                                    ABC transporter    -0.207467\n",
       "PF00006  ATP synthase alpha/beta family, nucleotide-bin...     0.175299"
      ]
     },
     "execution_count": 13,
     "metadata": {},
     "output_type": "execute_result"
    }
   ],
   "source": [
    "# Get Pfam domains as feature names\n",
    "f_in = os.path.join(parent_dir, 'processed_data', 'pfam_domain_descriptions.tsv')\n",
    "df_pfam = pd.read_csv(f_in, sep='\\t', index_col='Pfam_ID')\n",
    "\n",
    "df_pfam.shape\n",
    "df_pfam.head()"
   ]
  },
  {
   "cell_type": "code",
   "execution_count": 14,
   "metadata": {},
   "outputs": [],
   "source": [
    "# Get model coefficients\n",
    "pipe = joblib.load('best_model.pkl')\n",
    "coefs = pipe['clf'].coef_[0]\n",
    "\n",
    "# Append coefficients to Pfam DataFrame\n",
    "df_pfam['Coefficient'] = coefs\n",
    "\n",
    "# Replace domain DataFrame file with the one appended with coefficients\n",
    "df_pfam.to_csv(f_in, sep='\\t')"
   ]
  },
  {
   "cell_type": "code",
   "execution_count": 15,
   "metadata": {
    "scrolled": false
   },
   "outputs": [
    {
     "name": "stdout",
     "output_type": "stream",
     "text": [
      "Domains that support interaction: 1612\n"
     ]
    },
    {
     "data": {
      "text/html": [
       "<div>\n",
       "<style scoped>\n",
       "    .dataframe tbody tr th:only-of-type {\n",
       "        vertical-align: middle;\n",
       "    }\n",
       "\n",
       "    .dataframe tbody tr th {\n",
       "        vertical-align: top;\n",
       "    }\n",
       "\n",
       "    .dataframe thead th {\n",
       "        text-align: right;\n",
       "    }\n",
       "</style>\n",
       "<table border=\"1\" class=\"dataframe\">\n",
       "  <thead>\n",
       "    <tr style=\"text-align: right;\">\n",
       "      <th></th>\n",
       "      <th>Description</th>\n",
       "      <th>Coefficient</th>\n",
       "    </tr>\n",
       "    <tr>\n",
       "      <th>Pfam_ID</th>\n",
       "      <th></th>\n",
       "      <th></th>\n",
       "    </tr>\n",
       "  </thead>\n",
       "  <tbody>\n",
       "    <tr>\n",
       "      <th>PF07679</th>\n",
       "      <td>Immunoglobulin I-set domain</td>\n",
       "      <td>55.438910</td>\n",
       "    </tr>\n",
       "    <tr>\n",
       "      <th>PF05473</th>\n",
       "      <td>UL45 protein, carbohydrate-binding C-type lect...</td>\n",
       "      <td>32.909817</td>\n",
       "    </tr>\n",
       "    <tr>\n",
       "      <th>PF13465</th>\n",
       "      <td>Zinc-finger double domain</td>\n",
       "      <td>30.969230</td>\n",
       "    </tr>\n",
       "    <tr>\n",
       "      <th>PF13912</th>\n",
       "      <td>C2H2-type zinc finger</td>\n",
       "      <td>28.635087</td>\n",
       "    </tr>\n",
       "    <tr>\n",
       "      <th>PF17820</th>\n",
       "      <td>PDZ domain</td>\n",
       "      <td>23.598790</td>\n",
       "    </tr>\n",
       "    <tr>\n",
       "      <th>PF00041</th>\n",
       "      <td>Fibronectin type III domain</td>\n",
       "      <td>19.184146</td>\n",
       "    </tr>\n",
       "    <tr>\n",
       "      <th>PF13921</th>\n",
       "      <td>Myb-like DNA-binding domain</td>\n",
       "      <td>18.723998</td>\n",
       "    </tr>\n",
       "    <tr>\n",
       "      <th>PF16620</th>\n",
       "      <td>Unstructured linker between I-set domains 2 an...</td>\n",
       "      <td>16.825319</td>\n",
       "    </tr>\n",
       "    <tr>\n",
       "      <th>PF07705</th>\n",
       "      <td>CARDB</td>\n",
       "      <td>14.673912</td>\n",
       "    </tr>\n",
       "    <tr>\n",
       "      <th>PF00550</th>\n",
       "      <td>Phosphopantetheine attachment site</td>\n",
       "      <td>14.181748</td>\n",
       "    </tr>\n",
       "  </tbody>\n",
       "</table>\n",
       "</div>"
      ],
      "text/plain": [
       "                                               Description  Coefficient\n",
       "Pfam_ID                                                                \n",
       "PF07679                        Immunoglobulin I-set domain    55.438910\n",
       "PF05473  UL45 protein, carbohydrate-binding C-type lect...    32.909817\n",
       "PF13465                          Zinc-finger double domain    30.969230\n",
       "PF13912                              C2H2-type zinc finger    28.635087\n",
       "PF17820                                         PDZ domain    23.598790\n",
       "PF00041                        Fibronectin type III domain    19.184146\n",
       "PF13921                        Myb-like DNA-binding domain    18.723998\n",
       "PF16620  Unstructured linker between I-set domains 2 an...    16.825319\n",
       "PF07705                                              CARDB    14.673912\n",
       "PF00550                 Phosphopantetheine attachment site    14.181748"
      ]
     },
     "execution_count": 15,
     "metadata": {},
     "output_type": "execute_result"
    },
    {
     "name": "stdout",
     "output_type": "stream",
     "text": [
      "\n",
      "Domains irrelevant for interaction: 2082\n"
     ]
    },
    {
     "data": {
      "text/html": [
       "<div>\n",
       "<style scoped>\n",
       "    .dataframe tbody tr th:only-of-type {\n",
       "        vertical-align: middle;\n",
       "    }\n",
       "\n",
       "    .dataframe tbody tr th {\n",
       "        vertical-align: top;\n",
       "    }\n",
       "\n",
       "    .dataframe thead th {\n",
       "        text-align: right;\n",
       "    }\n",
       "</style>\n",
       "<table border=\"1\" class=\"dataframe\">\n",
       "  <thead>\n",
       "    <tr style=\"text-align: right;\">\n",
       "      <th></th>\n",
       "      <th>Description</th>\n",
       "      <th>Coefficient</th>\n",
       "    </tr>\n",
       "    <tr>\n",
       "      <th>Pfam_ID</th>\n",
       "      <th></th>\n",
       "      <th></th>\n",
       "    </tr>\n",
       "  </thead>\n",
       "  <tbody>\n",
       "    <tr>\n",
       "      <th>PF00018</th>\n",
       "      <td>SH3 domain</td>\n",
       "      <td>0.0</td>\n",
       "    </tr>\n",
       "    <tr>\n",
       "      <th>PF00019</th>\n",
       "      <td>Transforming growth factor beta like domain</td>\n",
       "      <td>0.0</td>\n",
       "    </tr>\n",
       "    <tr>\n",
       "      <th>PF00020</th>\n",
       "      <td>TNFR/NGFR cysteine-rich region</td>\n",
       "      <td>0.0</td>\n",
       "    </tr>\n",
       "    <tr>\n",
       "      <th>PF00024</th>\n",
       "      <td>PAN domain</td>\n",
       "      <td>0.0</td>\n",
       "    </tr>\n",
       "    <tr>\n",
       "      <th>PF00028</th>\n",
       "      <td>Cadherin domain</td>\n",
       "      <td>0.0</td>\n",
       "    </tr>\n",
       "    <tr>\n",
       "      <th>PF00036</th>\n",
       "      <td>EF hand</td>\n",
       "      <td>0.0</td>\n",
       "    </tr>\n",
       "    <tr>\n",
       "      <th>PF00037</th>\n",
       "      <td>4Fe-4S binding domain</td>\n",
       "      <td>0.0</td>\n",
       "    </tr>\n",
       "    <tr>\n",
       "      <th>PF00046</th>\n",
       "      <td>Homeodomain</td>\n",
       "      <td>0.0</td>\n",
       "    </tr>\n",
       "    <tr>\n",
       "      <th>PF00047</th>\n",
       "      <td>Immunoglobulin domain</td>\n",
       "      <td>0.0</td>\n",
       "    </tr>\n",
       "    <tr>\n",
       "      <th>PF00050</th>\n",
       "      <td>Kazal-type serine protease inhibitor domain</td>\n",
       "      <td>0.0</td>\n",
       "    </tr>\n",
       "  </tbody>\n",
       "</table>\n",
       "</div>"
      ],
      "text/plain": [
       "                                         Description  Coefficient\n",
       "Pfam_ID                                                          \n",
       "PF00018                                   SH3 domain          0.0\n",
       "PF00019  Transforming growth factor beta like domain          0.0\n",
       "PF00020               TNFR/NGFR cysteine-rich region          0.0\n",
       "PF00024                                   PAN domain          0.0\n",
       "PF00028                              Cadherin domain          0.0\n",
       "PF00036                                      EF hand          0.0\n",
       "PF00037                        4Fe-4S binding domain          0.0\n",
       "PF00046                                  Homeodomain          0.0\n",
       "PF00047                        Immunoglobulin domain          0.0\n",
       "PF00050  Kazal-type serine protease inhibitor domain          0.0"
      ]
     },
     "execution_count": 15,
     "metadata": {},
     "output_type": "execute_result"
    },
    {
     "name": "stdout",
     "output_type": "stream",
     "text": [
      "\n",
      "Domains that hinder interaction: 762\n"
     ]
    },
    {
     "data": {
      "text/html": [
       "<div>\n",
       "<style scoped>\n",
       "    .dataframe tbody tr th:only-of-type {\n",
       "        vertical-align: middle;\n",
       "    }\n",
       "\n",
       "    .dataframe tbody tr th {\n",
       "        vertical-align: top;\n",
       "    }\n",
       "\n",
       "    .dataframe thead th {\n",
       "        text-align: right;\n",
       "    }\n",
       "</style>\n",
       "<table border=\"1\" class=\"dataframe\">\n",
       "  <thead>\n",
       "    <tr style=\"text-align: right;\">\n",
       "      <th></th>\n",
       "      <th>Description</th>\n",
       "      <th>Coefficient</th>\n",
       "    </tr>\n",
       "    <tr>\n",
       "      <th>Pfam_ID</th>\n",
       "      <th></th>\n",
       "      <th></th>\n",
       "    </tr>\n",
       "  </thead>\n",
       "  <tbody>\n",
       "    <tr>\n",
       "      <th>PF00578</th>\n",
       "      <td>AhpC/TSA family</td>\n",
       "      <td>-13.317472</td>\n",
       "    </tr>\n",
       "    <tr>\n",
       "      <th>PF00102</th>\n",
       "      <td>Protein-tyrosine phosphatase</td>\n",
       "      <td>-13.512013</td>\n",
       "    </tr>\n",
       "    <tr>\n",
       "      <th>PF04851</th>\n",
       "      <td>Type III restriction enzyme, res subunit</td>\n",
       "      <td>-16.962680</td>\n",
       "    </tr>\n",
       "    <tr>\n",
       "      <th>PF13894</th>\n",
       "      <td>C2H2-type zinc finger</td>\n",
       "      <td>-17.161284</td>\n",
       "    </tr>\n",
       "    <tr>\n",
       "      <th>PF07686</th>\n",
       "      <td>Immunoglobulin V-set domain</td>\n",
       "      <td>-17.468092</td>\n",
       "    </tr>\n",
       "    <tr>\n",
       "      <th>PF00249</th>\n",
       "      <td>Myb-like DNA-binding domain</td>\n",
       "      <td>-18.031047</td>\n",
       "    </tr>\n",
       "    <tr>\n",
       "      <th>PF13895</th>\n",
       "      <td>Immunoglobulin domain</td>\n",
       "      <td>-21.371978</td>\n",
       "    </tr>\n",
       "    <tr>\n",
       "      <th>PF00096</th>\n",
       "      <td>Zinc finger, C2H2 type</td>\n",
       "      <td>-25.612619</td>\n",
       "    </tr>\n",
       "    <tr>\n",
       "      <th>PF00595</th>\n",
       "      <td>PDZ domain</td>\n",
       "      <td>-31.010153</td>\n",
       "    </tr>\n",
       "    <tr>\n",
       "      <th>PF00059</th>\n",
       "      <td>Lectin C-type domain</td>\n",
       "      <td>-35.242300</td>\n",
       "    </tr>\n",
       "  </tbody>\n",
       "</table>\n",
       "</div>"
      ],
      "text/plain": [
       "                                      Description  Coefficient\n",
       "Pfam_ID                                                       \n",
       "PF00578                           AhpC/TSA family   -13.317472\n",
       "PF00102              Protein-tyrosine phosphatase   -13.512013\n",
       "PF04851  Type III restriction enzyme, res subunit   -16.962680\n",
       "PF13894                     C2H2-type zinc finger   -17.161284\n",
       "PF07686               Immunoglobulin V-set domain   -17.468092\n",
       "PF00249               Myb-like DNA-binding domain   -18.031047\n",
       "PF13895                     Immunoglobulin domain   -21.371978\n",
       "PF00096                    Zinc finger, C2H2 type   -25.612619\n",
       "PF00595                                PDZ domain   -31.010153\n",
       "PF00059                      Lectin C-type domain   -35.242300"
      ]
     },
     "execution_count": 15,
     "metadata": {},
     "output_type": "execute_result"
    }
   ],
   "source": [
    "# Obtain summary of feature relevance\n",
    "\n",
    "# Function for viewing a slice of the domain lists\n",
    "def print_domains(df_features):\n",
    "    return \n",
    "\n",
    "pos_features = df_pfam[df_pfam.Coefficient > 0]\n",
    "zero_features = df_pfam[df_pfam.Coefficient == 0]\n",
    "neg_features = df_pfam[df_pfam.Coefficient < 0]\n",
    "\n",
    "print('Domains that support interaction: %i' % len(pos_features))\n",
    "pos_features.sort_values(by='Coefficient', ascending=False)[:10]\n",
    "\n",
    "print('\\nDomains irrelevant for interaction: %i' % len(zero_features))\n",
    "zero_features[:10]\n",
    "\n",
    "print('\\nDomains that hinder interaction: %i' % len(neg_features))\n",
    "neg_features.sort_values(by='Coefficient', ascending=False)[-10:]"
   ]
  },
  {
   "cell_type": "markdown",
   "metadata": {},
   "source": [
    "<hr></hr>"
   ]
  }
 ],
 "metadata": {
  "kernelspec": {
   "display_name": "Python 3",
   "language": "python",
   "name": "python3"
  },
  "language_info": {
   "codemirror_mode": {
    "name": "ipython",
    "version": 3
   },
   "file_extension": ".py",
   "mimetype": "text/x-python",
   "name": "python",
   "nbconvert_exporter": "python",
   "pygments_lexer": "ipython3",
   "version": "3.6.5"
  }
 },
 "nbformat": 4,
 "nbformat_minor": 2
}
