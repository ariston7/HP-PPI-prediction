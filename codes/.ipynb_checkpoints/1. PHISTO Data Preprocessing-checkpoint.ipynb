{
 "cells": [
  {
   "cell_type": "markdown",
   "metadata": {},
   "source": [
    "# PHISTO Data Preprocessing and Organization\n",
    "\n",
    "Preprocess the search results of host-pathogen protein-protein interactions from PHISTO (http://www.phisto.org) to use as training dataset.\n",
    "\n",
    "Search by taxonomy ID\n",
    "\n",
    "Full keyword: 'TAXONOMY ID'  = '1392'  OR  'TAXONOMY ID'  = '632'  OR  'TAXONOMY ID'  = '177416'\n",
    "- **632**: *Yersinia pestis*\n",
    "- **1392**: *Bacillus anthracis*\n",
    "- **166416**: *Francisella tularensis*"
   ]
  },
  {
   "cell_type": "code",
   "execution_count": 1,
   "metadata": {},
   "outputs": [],
   "source": [
    "import os\n",
    "import pandas as pd\n",
    "\n",
    "# Printing status of datasets\n",
    "def print_status(df, text):\n",
    "    i = len(df)\n",
    "    p = len(df.Pathogen_UniprotID)\n",
    "    h = len(df.Human_UniprotID)\n",
    "    print('%s:\\n%i interactions involving %i pathogen proteins and %i human proteins' % (i, p, h))"
   ]
  },
  {
   "cell_type": "code",
   "execution_count": 2,
   "metadata": {},
   "outputs": [],
   "source": [
    "# Set up in and out directories\n",
    "parent_dir = os.path.dirname(os.getcwd())\n",
    "\n",
    "dir_in = dir_out = os.path.join(parent_dir, 'data')"
   ]
  },
  {
   "cell_type": "markdown",
   "metadata": {},
   "source": [
    "## Step 1: Obtain Uniprot accessions of proteins\n",
    "\n",
    "Extract list of pathogen and host proteins included in `PHISTO_data.csv`"
   ]
  },
  {
   "cell_type": "code",
   "execution_count": 4,
   "metadata": {},
   "outputs": [
    {
     "data": {
      "text/plain": [
       "(8564, 8)"
      ]
     },
     "execution_count": 4,
     "metadata": {},
     "output_type": "execute_result"
    },
    {
     "data": {
      "text/html": [
       "<div>\n",
       "<style scoped>\n",
       "    .dataframe tbody tr th:only-of-type {\n",
       "        vertical-align: middle;\n",
       "    }\n",
       "\n",
       "    .dataframe tbody tr th {\n",
       "        vertical-align: top;\n",
       "    }\n",
       "\n",
       "    .dataframe thead th {\n",
       "        text-align: right;\n",
       "    }\n",
       "</style>\n",
       "<table border=\"1\" class=\"dataframe\">\n",
       "  <thead>\n",
       "    <tr style=\"text-align: right;\">\n",
       "      <th></th>\n",
       "      <th>Pathogen</th>\n",
       "      <th>Taxonomy ID</th>\n",
       "      <th>Uniprot ID</th>\n",
       "      <th>Pathogen Protein</th>\n",
       "      <th>Uniprot ID.1</th>\n",
       "      <th>Human Protein</th>\n",
       "      <th>Experimental Method</th>\n",
       "      <th>Pubmed ID</th>\n",
       "    </tr>\n",
       "  </thead>\n",
       "  <tbody>\n",
       "    <tr>\n",
       "      <th>0</th>\n",
       "      <td>Yersinia pestis</td>\n",
       "      <td>632</td>\n",
       "      <td>Q9RI12</td>\n",
       "      <td>YPKA_YERPE</td>\n",
       "      <td>Q96FW1</td>\n",
       "      <td>OTUB1_HUMAN</td>\n",
       "      <td>affinity chromatography technology</td>\n",
       "      <td>16364312</td>\n",
       "    </tr>\n",
       "    <tr>\n",
       "      <th>1</th>\n",
       "      <td>Yersinia pestis</td>\n",
       "      <td>632</td>\n",
       "      <td>Q9RI12</td>\n",
       "      <td>YPKA_YERPE</td>\n",
       "      <td>Q96FW1</td>\n",
       "      <td>OTUB1_HUMAN</td>\n",
       "      <td>anti tag coimmunoprecipitation</td>\n",
       "      <td>16364312</td>\n",
       "    </tr>\n",
       "    <tr>\n",
       "      <th>2</th>\n",
       "      <td>Yersinia pestis</td>\n",
       "      <td>632</td>\n",
       "      <td>Q7ARN6</td>\n",
       "      <td>Q7ARN6_YERPE</td>\n",
       "      <td>P63000</td>\n",
       "      <td>RAC1_HUMAN</td>\n",
       "      <td>two hybrid pooling approach</td>\n",
       "      <td>20711500</td>\n",
       "    </tr>\n",
       "    <tr>\n",
       "      <th>3</th>\n",
       "      <td>Yersinia pestis</td>\n",
       "      <td>632</td>\n",
       "      <td>Q74YG7</td>\n",
       "      <td>Q74YG7_YERPE</td>\n",
       "      <td>Q9HD26</td>\n",
       "      <td>GOPC_HUMAN</td>\n",
       "      <td>two hybrid pooling approach</td>\n",
       "      <td>20711500</td>\n",
       "    </tr>\n",
       "    <tr>\n",
       "      <th>4</th>\n",
       "      <td>Yersinia pestis</td>\n",
       "      <td>632</td>\n",
       "      <td>Q8D0Q9</td>\n",
       "      <td>Q8D0Q9_YERPE</td>\n",
       "      <td>O43491</td>\n",
       "      <td>E41L2_HUMAN</td>\n",
       "      <td>two hybrid pooling approach</td>\n",
       "      <td>20711500</td>\n",
       "    </tr>\n",
       "  </tbody>\n",
       "</table>\n",
       "</div>"
      ],
      "text/plain": [
       "          Pathogen  Taxonomy ID Uniprot ID Pathogen Protein Uniprot ID.1  \\\n",
       "0  Yersinia pestis          632     Q9RI12      YPKA_YERPE        Q96FW1   \n",
       "1  Yersinia pestis          632     Q9RI12      YPKA_YERPE        Q96FW1   \n",
       "2  Yersinia pestis          632     Q7ARN6    Q7ARN6_YERPE        P63000   \n",
       "3  Yersinia pestis          632     Q74YG7    Q74YG7_YERPE        Q9HD26   \n",
       "4  Yersinia pestis          632     Q8D0Q9    Q8D0Q9_YERPE        O43491   \n",
       "\n",
       "  Human Protein                 Experimental Method  Pubmed ID  \n",
       "0  OTUB1_HUMAN   affinity chromatography technology   16364312  \n",
       "1  OTUB1_HUMAN       anti tag coimmunoprecipitation   16364312  \n",
       "2   RAC1_HUMAN          two hybrid pooling approach   20711500  \n",
       "3   GOPC_HUMAN          two hybrid pooling approach   20711500  \n",
       "4  E41L2_HUMAN          two hybrid pooling approach   20711500  "
      ]
     },
     "execution_count": 4,
     "metadata": {},
     "output_type": "execute_result"
    }
   ],
   "source": [
    "# Read PHISTO file as DataFrame\n",
    "f_in = os.path.join(dir_in, 'PHISTO_data.csv')\n",
    "\n",
    "columns = ['Taxonomy ID', 'Uniprot ID', 'Uniprot ID.1']\n",
    "df = pd.read_csv(f_in)[columns]\n",
    "\n",
    "# Rename columns\n",
    "df.columns = ['Pathogen_TaxID',\n",
    "              'Pathogen_UniprotID',\n",
    "              'Human_UniprotID']\n",
    "\n",
    "df.shape\n",
    "df.head()"
   ]
  }
 ],
 "metadata": {
  "kernelspec": {
   "display_name": "Python 3",
   "language": "python",
   "name": "python3"
  },
  "language_info": {
   "codemirror_mode": {
    "name": "ipython",
    "version": 3
   },
   "file_extension": ".py",
   "mimetype": "text/x-python",
   "name": "python",
   "nbconvert_exporter": "python",
   "pygments_lexer": "ipython3",
   "version": "3.6.5"
  }
 },
 "nbformat": 4,
 "nbformat_minor": 2
}
