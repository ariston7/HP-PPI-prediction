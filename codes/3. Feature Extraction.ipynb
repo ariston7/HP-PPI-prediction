{
 "cells": [
  {
   "cell_type": "markdown",
   "metadata": {},
   "source": [
    "# Extraction of Domain Features for Training Dataset\n",
    "\n",
    "Generate feature vectors of domain occurences in each protein pair"
   ]
  },
  {
   "cell_type": "code",
   "execution_count": 1,
   "metadata": {},
   "outputs": [],
   "source": [
    "import os\n",
    "import joblib\n",
    "import gzip\n",
    "\n",
    "import pandas as pd\n",
    "import numpy as np\n",
    "from tqdm import tqdm\n",
    "from functools import partial\n",
    "\n",
    "from features import domain_features\n",
    "\n",
    "# Print status of datasets\n",
    "def print_status(df):\n",
    "    \n",
    "    # For each pathogen\n",
    "    for pathogen in sorted(set(df.Pathogen)):\n",
    "        df_patho = df[df.Pathogen == pathogen]\n",
    "        i = len(df_patho)\n",
    "        p = len(set(df_patho.Pathogen_Uniprot_ID))\n",
    "        h = len(set(df_patho.Human_Uniprot_ID))\n",
    "        print('%s:\\n%i pairs involving %i pathogen proteins and %i human proteins\\n' % (pathogen, i, p, h))\n",
    "    \n",
    "    # Total\n",
    "    i = len(df)\n",
    "    p = len(set(df.Pathogen_Uniprot_ID))\n",
    "    h = len(set(df.Human_Uniprot_ID))\n",
    "    print('TOTAL:\\n%i pairs involving %i pathogen proteins and %i human proteins\\n' % (i, p, h))"
   ]
  },
  {
   "cell_type": "code",
   "execution_count": 2,
   "metadata": {},
   "outputs": [],
   "source": [
    "# Set up directories\n",
    "parent_dir = os.path.dirname(os.getcwd())\n",
    "\n",
    "dir_in = os.path.join(parent_dir, 'data')\n",
    "dir_out = os.path.join(parent_dir, 'data', 'features')"
   ]
  },
  {
   "cell_type": "code",
   "execution_count": 3,
   "metadata": {},
   "outputs": [
    {
     "name": "stdout",
     "output_type": "stream",
     "text": [
      "                          POSITIVE DATASET\n",
      "                           \n",
      "Bacillus anthracis:\n",
      "2764 pairs involving 857 pathogen proteins and 1565 human proteins\n",
      "\n",
      "Francisella tularensis SUBSPECIES TULARENSIS SCHU S4:\n",
      "1187 pairs involving 307 pathogen proteins and 884 human proteins\n",
      "\n",
      "Yersinia pestis:\n",
      "3590 pairs involving 1120 pathogen proteins and 1917 human proteins\n",
      "\n",
      "TOTAL:\n",
      "7541 pairs involving 2284 pathogen proteins and 3188 human proteins\n",
      "\n"
     ]
    }
   ],
   "source": [
    "# Load positive dataset\n",
    "f_in = os.path.join(dir_in, 'positive_pairs.tsv')\n",
    "df_pos = pd.read_csv(f_in, sep='\\t')\n",
    "\n",
    "print('POSITIVE DATASET\\n'.center(70))\n",
    "print_status(df_pos)"
   ]
  },
  {
   "cell_type": "code",
   "execution_count": 4,
   "metadata": {},
   "outputs": [
    {
     "name": "stdout",
     "output_type": "stream",
     "text": [
      "                          NEGATIVE DATASET\n",
      "                           \n",
      "Bacillus anthracis:\n",
      "10777 pairs involving 718 pathogen proteins and 1120 human proteins\n",
      "\n",
      "Francisella tularensis SUBSPECIES TULARENSIS SCHU S4:\n",
      "3500 pairs involving 243 pathogen proteins and 465 human proteins\n",
      "\n",
      "Yersinia pestis:\n",
      "13137 pairs involving 880 pathogen proteins and 789 human proteins\n",
      "\n",
      "TOTAL:\n",
      "27414 pairs involving 1841 pathogen proteins and 1307 human proteins\n",
      "\n"
     ]
    }
   ],
   "source": [
    "# Load negative dataset\n",
    "f_in = os.path.join(dir_in, 'negative_pairs.tsv')\n",
    "df_neg = pd.read_csv(f_in, sep='\\t')\n",
    "\n",
    "print('NEGATIVE DATASET\\n'.center(70))\n",
    "print_status(df_neg)"
   ]
  },
  {
   "cell_type": "markdown",
   "metadata": {},
   "source": [
    "## Transform protein pairs into feature vectors"
   ]
  },
  {
   "cell_type": "code",
   "execution_count": 5,
   "metadata": {},
   "outputs": [],
   "source": [
    "# Load Pfam data\n",
    "pfam_dict, pfam_set = joblib.load('pfam.pkl')\n",
    "\n",
    "# Set up feature extraction function\n",
    "feature_function = partial(domain_features,\n",
    "                           domain_dict=pfam_dict,\n",
    "                           domain_set=pfam_set)"
   ]
  },
  {
   "cell_type": "code",
   "execution_count": 6,
   "metadata": {},
   "outputs": [],
   "source": [
    "# Function to extract domain features from all pairs\n",
    "\n",
    "def pairs_to_features(protein_pairs, label):\n",
    "    '''Transform protein pairs into a vector of features and add labels.\n",
    "    Labels:\n",
    "    - 1 for positive dataset\n",
    "    - 0 for negative dataset\n",
    "    '''\n",
    "    \n",
    "    dim = len(pfam_set) # dimension of arrays must match the number of Pfam domains\n",
    "    \n",
    "    # Initialize an empty list for features\n",
    "    X = []\n",
    "    for pair in tqdm(protein_pairs):\n",
    "        features = sum(map(feature_function, pair))\n",
    "        X.append(features)\n",
    "    \n",
    "    X = np.vstack(X)\n",
    "    \n",
    "    # Generate labels\n",
    "    y = np.array([label] * len(X))\n",
    "    \n",
    "    return X, y"
   ]
  },
  {
   "cell_type": "code",
   "execution_count": null,
   "metadata": {},
   "outputs": [
    {
     "name": "stderr",
     "output_type": "stream",
     "text": [
      "100%|██████████| 1187/1187 [00:02<00:00, 467.35it/s]\n",
      "100%|██████████| 3500/3500 [00:07<00:00, 499.53it/s]\n",
      "100%|██████████| 3590/3590 [00:07<00:00, 503.61it/s]\n",
      "100%|██████████| 13137/13137 [00:25<00:00, 515.65it/s]\n",
      "100%|██████████| 2764/2764 [00:05<00:00, 502.88it/s]\n",
      "100%|██████████| 10777/10777 [00:21<00:00, 508.30it/s]\n"
     ]
    }
   ],
   "source": [
    "# Iterate feature extraction by dataset and pathogen\n",
    "\n",
    "d = {'pos': (df_pos, 1), 'neg': (df_neg, 0)} # df and label\n",
    "for pathogen in set(df_pos.Pathogen):\n",
    "    \n",
    "    # Store positive and negative feature arrays in a list\n",
    "    X = []\n",
    "    y = []\n",
    "    \n",
    "    # Iterate through positive & negative for pathogen\n",
    "    for data in d.keys():\n",
    "        df, label = d[data]\n",
    "        \n",
    "        # Select only the current pathogen from datasets\n",
    "        df_current = df[df.Pathogen == pathogen]\n",
    "        pairs = df_current.drop('Pathogen', axis=1).values\n",
    "\n",
    "        # Extract features\n",
    "        X_, y_ = pairs_to_features(pairs, label)\n",
    "        X.append(X_)\n",
    "        y.append(y_)\n",
    "        del X_, y_\n",
    "        \n",
    "    # Combine positive and negative features and labels\n",
    "    X = np.vstack(X)\n",
    "    y = np.concatenate(y)\n",
    "    \n",
    "    # Save features as binary\n",
    "    ## Slice pathogen species name for file name\n",
    "    genus, species = pathogen.split()[:2]\n",
    "    name = genus[:3] + species[:2]\n",
    "\n",
    "    f_out = os.path.join(dir_out, '%s_features.npz' % name)\n",
    "    np.savez_compressed(f_out, X=X, y=y)\n",
    "    del X, y # save up space"
   ]
  },
  {
   "cell_type": "markdown",
   "metadata": {},
   "source": [
    "<hr></hr>"
   ]
  }
 ],
 "metadata": {
  "kernelspec": {
   "display_name": "Python 3",
   "language": "python",
   "name": "python3"
  },
  "language_info": {
   "codemirror_mode": {
    "name": "ipython",
    "version": 3
   },
   "file_extension": ".py",
   "mimetype": "text/x-python",
   "name": "python",
   "nbconvert_exporter": "python",
   "pygments_lexer": "ipython3",
   "version": "3.6.5"
  }
 },
 "nbformat": 4,
 "nbformat_minor": 2
}
