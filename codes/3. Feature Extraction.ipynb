{
 "cells": [
  {
   "cell_type": "markdown",
   "metadata": {},
   "source": [
    "# Extraction of Domain Features for Training Dataset\n",
    "\n",
    "Generate feature vectors of domain occurences in each protein pair"
   ]
  },
  {
   "cell_type": "code",
   "execution_count": 1,
   "metadata": {},
   "outputs": [],
   "source": [
    "import os\n",
    "import joblib\n",
    "\n",
    "import pandas as pd\n",
    "import numpy as np\n",
    "\n",
    "from features import domain_features\n",
    "\n",
    "# Print status of datasets\n",
    "def print_status(df):\n",
    "    \n",
    "    # For each pathogen\n",
    "    for pathogen in sorted(set(df.Pathogen)):\n",
    "        df_patho = df[df.Pathogen == pathogen]\n",
    "        i = len(df_patho)\n",
    "        p = len(set(df_patho.Pathogen_Uniprot_ID))\n",
    "        h = len(set(df_patho.Human_Uniprot_ID))\n",
    "        print('%s:\\n%i pairs involving %i pathogen proteins and %i human proteins\\n' % (pathogen, i, p, h))\n",
    "    \n",
    "    # Total\n",
    "    i = len(df)\n",
    "    p = len(set(df.Pathogen_Uniprot_ID))\n",
    "    h = len(set(df.Human_Uniprot_ID))\n",
    "    print('TOTAL:\\n%i pairs involving %i pathogen proteins and %i human proteins\\n' % (i, p, h))"
   ]
  },
  {
   "cell_type": "code",
   "execution_count": 2,
   "metadata": {},
   "outputs": [],
   "source": [
    "# Set up directories\n",
    "parent_dir = os.path.dirname(os.getcwd())\n",
    "\n",
    "dir_in = os.path.join(parent_dir, 'data')\n",
    "dir_out = os.path.join(parent_dir, 'data', 'features')"
   ]
  },
  {
   "cell_type": "code",
   "execution_count": 3,
   "metadata": {},
   "outputs": [
    {
     "name": "stdout",
     "output_type": "stream",
     "text": [
      "                          POSITIVE DATASET\n",
      "                           \n",
      "Bacillus anthracis:\n",
      "2764 pairs involving 857 pathogen proteins and 1565 human proteins\n",
      "\n",
      "Francisella tularensis SUBSPECIES TULARENSIS SCHU S4:\n",
      "1187 pairs involving 307 pathogen proteins and 884 human proteins\n",
      "\n",
      "Yersinia pestis:\n",
      "3590 pairs involving 1120 pathogen proteins and 1917 human proteins\n",
      "\n",
      "TOTAL:\n",
      "7541 pairs involving 2284 pathogen proteins and 3188 human proteins\n",
      "\n"
     ]
    }
   ],
   "source": [
    "# Load positive dataset\n",
    "f_in = os.path.join(dir_in, 'positive_pairs.tsv')\n",
    "df_pos = pd.read_csv(f_in, sep='\\t')\n",
    "\n",
    "print('POSITIVE DATASET\\n'.center(70))\n",
    "print_status(df_pos)"
   ]
  },
  {
   "cell_type": "code",
   "execution_count": 4,
   "metadata": {},
   "outputs": [
    {
     "name": "stdout",
     "output_type": "stream",
     "text": [
      "                          NEGATIVE DATASET\n",
      "                           \n",
      "Bacillus anthracis:\n",
      "10777 pairs involving 718 pathogen proteins and 1104 human proteins\n",
      "\n",
      "Francisella tularensis SUBSPECIES TULARENSIS SCHU S4:\n",
      "3500 pairs involving 243 pathogen proteins and 460 human proteins\n",
      "\n",
      "Yersinia pestis:\n",
      "13137 pairs involving 880 pathogen proteins and 781 human proteins\n",
      "\n",
      "TOTAL:\n",
      "27414 pairs involving 1841 pathogen proteins and 1314 human proteins\n",
      "\n"
     ]
    }
   ],
   "source": [
    "# Load negative dataset\n",
    "f_in = os.path.join(dir_in, 'negative_pairs.tsv')\n",
    "df_neg = pd.read_csv(f_in, sep='\\t')\n",
    "\n",
    "print('NEGATIVE DATASET\\n'.center(70))\n",
    "print_status(df_neg)"
   ]
  },
  {
   "cell_type": "markdown",
   "metadata": {},
   "source": [
    "## Transform protein pairs into feature vectors"
   ]
  },
  {
   "cell_type": "code",
   "execution_count": 5,
   "metadata": {},
   "outputs": [],
   "source": [
    "# Load Pfam data\n",
    "pfam_dict, pfam_set = joblib.load('pfam.pkl')"
   ]
  },
  {
   "cell_type": "code",
   "execution_count": 29,
   "metadata": {},
   "outputs": [],
   "source": [
    "# Function to extract domain features from all pairs\n",
    "\n",
    "def pairs_to_features(protein_pairs, label):\n",
    "    '''Transform protein pairs into a vector of features and add labels.\n",
    "    Labels:\n",
    "    - 1 for positive dataset\n",
    "    - 0 for negative dataset\n",
    "    '''\n",
    "    \n",
    "    dim = len(pfam_set) # dimension of arrays must match the number of Pfam domains\n",
    "    \n",
    "    # Initialize an empty array for features\n",
    "    X = np.empty([0, dim])\n",
    "    \n",
    "    for pair in protein_pairs:\n",
    "        features = sum(map(domain_features, pair))\n",
    "        X = np.vstack((X, features))\n",
    "    \n",
    "    # Generate labels\n",
    "    y = np.array([label] * dim)\n",
    "    \n",
    "    return X, y"
   ]
  },
  {
   "cell_type": "code",
   "execution_count": 15,
   "metadata": {},
   "outputs": [
    {
     "data": {
      "text/plain": [
       "{'Bacillus anthracis',\n",
       " 'Francisella tularensis SUBSPECIES TULARENSIS SCHU S4',\n",
       " 'Yersinia pestis'}"
      ]
     },
     "execution_count": 15,
     "metadata": {},
     "output_type": "execute_result"
    }
   ],
   "source": [
    "# Separate extraction for each pathogen\n",
    "for pathogen in set(df_pos.Pathogen):\n",
    "    \n",
    "    # Select only the current pathogen from datasets\n",
    "    df1 = df_pos[df_pos.Pathogen == pathogen]\n",
    "    positive_pairs = df1.drop('Pathogen', axis=1).values\n",
    "    \n",
    "    df2 = df_neg[df_neg.Pathogen == pathogen]\n",
    "    negative_pairs = df2.drop('Pathogen', axis=1).values\n",
    "    \n",
    "    # Extract features\n",
    "    X_pos, y_pos = pairs_to_features(positive_pairs, 1)\n",
    "    X_neg, y_neg = pairs_to_features(negative_pairs, 0)\n",
    "    \n",
    "    # Dump features as a pickled file\n",
    "    ## Slice pathogen species name for file name\n",
    "    genus, species = pathogen.split()[:2]\n",
    "    f_name = '%s_features' % (genus[:3] + species[:2])\n",
    "    \n",
    "    joblib.dump((X_pos, X_neg, y_pos, y_neg), f_name)"
   ]
  },
  {
   "cell_type": "code",
   "execution_count": 45,
   "metadata": {},
   "outputs": [
    {
     "data": {
      "text/plain": [
       "'Bacan'"
      ]
     },
     "execution_count": 45,
     "metadata": {},
     "output_type": "execute_result"
    }
   ],
   "source": [
    "x = list(set(df_pos.Pathogen))[0]\n",
    "\n",
    "a,b = x.split()[:2]\n",
    "a[:3]+b[:2] "
   ]
  }
 ],
 "metadata": {
  "kernelspec": {
   "display_name": "Python 3",
   "language": "python",
   "name": "python3"
  },
  "language_info": {
   "codemirror_mode": {
    "name": "ipython",
    "version": 3
   },
   "file_extension": ".py",
   "mimetype": "text/x-python",
   "name": "python",
   "nbconvert_exporter": "python",
   "pygments_lexer": "ipython3",
   "version": "3.6.5"
  }
 },
 "nbformat": 4,
 "nbformat_minor": 2
}
