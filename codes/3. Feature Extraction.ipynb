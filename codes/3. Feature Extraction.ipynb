{
 "cells": [
  {
   "cell_type": "markdown",
   "metadata": {},
   "source": [
    "# Extraction of Domain Features for Training Dataset\n",
    "\n",
    "Generate feature vectors of domain occurences in each protein pair"
   ]
  },
  {
   "cell_type": "code",
   "execution_count": 1,
   "metadata": {},
   "outputs": [],
   "source": [
    "import os\n",
    "import joblib\n",
    "\n",
    "import pandas as pd\n",
    "import numpy as np\n",
    "from scipy import sparse\n",
    "from tqdm import tqdm\n",
    "from functools import partial\n",
    "\n",
    "from features import domain_features\n",
    "\n",
    "# Print status of datasets\n",
    "def print_status(df):\n",
    "    \n",
    "    # For each pathogen\n",
    "    for pathogen in sorted(set(df.Pathogen)):\n",
    "        df_patho = df[df.Pathogen == pathogen]\n",
    "        i = len(df_patho)\n",
    "        p = len(set(df_patho.Pathogen_Uniprot_ID))\n",
    "        h = len(set(df_patho.Human_Uniprot_ID))\n",
    "        print('%s:\\n%i pairs involving %i pathogen proteins and %i human proteins\\n' % (pathogen, i, p, h))\n",
    "    \n",
    "    # Total\n",
    "    i = len(df)\n",
    "    p = len(set(df.Pathogen_Uniprot_ID))\n",
    "    h = len(set(df.Human_Uniprot_ID))\n",
    "    print('TOTAL:\\n%i pairs involving %i pathogen proteins and %i human proteins\\n' % (i, p, h))"
   ]
  },
  {
   "cell_type": "code",
   "execution_count": 2,
   "metadata": {},
   "outputs": [],
   "source": [
    "# Set up directories\n",
    "parent_dir = os.path.dirname(os.getcwd())\n",
    "\n",
    "dir_in = os.path.join(parent_dir, 'data')\n",
    "dir_out = os.path.join(parent_dir, 'data', 'features')"
   ]
  },
  {
   "cell_type": "code",
   "execution_count": 3,
   "metadata": {},
   "outputs": [
    {
     "name": "stdout",
     "output_type": "stream",
     "text": [
      "                          POSITIVE DATASET\n",
      "                           \n",
      "Bacillus anthracis:\n",
      "2764 pairs involving 857 pathogen proteins and 1565 human proteins\n",
      "\n",
      "Francisella tularensis SUBSPECIES TULARENSIS SCHU S4:\n",
      "1187 pairs involving 307 pathogen proteins and 884 human proteins\n",
      "\n",
      "Yersinia pestis:\n",
      "3590 pairs involving 1120 pathogen proteins and 1917 human proteins\n",
      "\n",
      "TOTAL:\n",
      "7541 pairs involving 2284 pathogen proteins and 3188 human proteins\n",
      "\n"
     ]
    }
   ],
   "source": [
    "# Load positive dataset\n",
    "f_in = os.path.join(dir_in, 'positive_pairs.tsv')\n",
    "df_pos = pd.read_csv(f_in, sep='\\t')\n",
    "\n",
    "print('POSITIVE DATASET\\n'.center(70))\n",
    "print_status(df_pos)"
   ]
  },
  {
   "cell_type": "code",
   "execution_count": 4,
   "metadata": {},
   "outputs": [
    {
     "name": "stdout",
     "output_type": "stream",
     "text": [
      "                          NEGATIVE DATASET\n",
      "                           \n",
      "Bacillus anthracis:\n",
      "21106 pairs involving 797 pathogen proteins and 824 human proteins\n",
      "\n",
      "Francisella tularensis SUBSPECIES TULARENSIS SCHU S4:\n",
      "7499 pairs involving 278 pathogen proteins and 257 human proteins\n",
      "\n",
      "Yersinia pestis:\n",
      "28088 pairs involving 1013 pathogen proteins and 622 human proteins\n",
      "\n",
      "TOTAL:\n",
      "56693 pairs involving 2088 pathogen proteins and 1106 human proteins\n",
      "\n"
     ]
    }
   ],
   "source": [
    "# Load negative dataset\n",
    "T = 0.7\n",
    "f_in = os.path.join(dir_in, 'negative_pairs_T%.2f.tsv' % T)\n",
    "df_neg = pd.read_csv(f_in, sep='\\t')\n",
    "\n",
    "print('NEGATIVE DATASET\\n'.center(70))\n",
    "print_status(df_neg)"
   ]
  },
  {
   "cell_type": "markdown",
   "metadata": {},
   "source": [
    "## Transform protein pairs into feature vectors"
   ]
  },
  {
   "cell_type": "code",
   "execution_count": 5,
   "metadata": {},
   "outputs": [],
   "source": [
    "# Load Pfam data\n",
    "pfam_dict, pfam_set = joblib.load('pfam.pkl')\n",
    "\n",
    "# Set up feature extraction function\n",
    "feature_function = partial(domain_features,\n",
    "                           domain_dict=pfam_dict,\n",
    "                           domain_set=pfam_set)"
   ]
  },
  {
   "cell_type": "code",
   "execution_count": 6,
   "metadata": {},
   "outputs": [],
   "source": [
    "# Function to extract domain features from all pairs\n",
    "\n",
    "def pairs_to_features(protein_pairs, label):\n",
    "    '''Transform protein pairs into a vector of features and add labels.\n",
    "    Labels:\n",
    "    - 1 for positive dataset\n",
    "    - 0 for negative dataset\n",
    "    '''\n",
    "    \n",
    "    dim = len(pfam_set) # dimension of arrays must match the number of Pfam domains\n",
    "    \n",
    "    # Initialize an empty list for features\n",
    "    X = []\n",
    "    for pair in tqdm(protein_pairs):\n",
    "        features = sum(map(feature_function, pair))\n",
    "        X.append(features)\n",
    "    \n",
    "    # Save features as a sparse matrix\n",
    "    X = sparse.vstack(X)\n",
    "    \n",
    "    # Generate labels\n",
    "    y = np.array([label] * X.shape[0])\n",
    "    \n",
    "    return X, y"
   ]
  },
  {
   "cell_type": "code",
   "execution_count": 7,
   "metadata": {},
   "outputs": [
    {
     "name": "stderr",
     "output_type": "stream",
     "text": [
      "100%|██████████| 3590/3590 [00:07<00:00, 517.85it/s]\n",
      "100%|██████████| 28088/28088 [00:53<00:00, 527.46it/s]\n"
     ]
    },
    {
     "data": {
      "text/plain": [
       "['/home/rei/Documents/Thesis/HP-PPI-prediction/data/features/Yerpe_features.pkl']"
      ]
     },
     "execution_count": 7,
     "metadata": {},
     "output_type": "execute_result"
    },
    {
     "name": "stderr",
     "output_type": "stream",
     "text": [
      "100%|██████████| 2764/2764 [00:05<00:00, 514.59it/s]\n",
      "100%|██████████| 21106/21106 [00:39<00:00, 528.79it/s]\n"
     ]
    },
    {
     "data": {
      "text/plain": [
       "['/home/rei/Documents/Thesis/HP-PPI-prediction/data/features/Bacan_features.pkl']"
      ]
     },
     "execution_count": 7,
     "metadata": {},
     "output_type": "execute_result"
    },
    {
     "name": "stderr",
     "output_type": "stream",
     "text": [
      "100%|██████████| 1187/1187 [00:02<00:00, 527.57it/s]\n",
      "100%|██████████| 7499/7499 [00:14<00:00, 532.59it/s]\n"
     ]
    },
    {
     "data": {
      "text/plain": [
       "['/home/rei/Documents/Thesis/HP-PPI-prediction/data/features/Fratu_features.pkl']"
      ]
     },
     "execution_count": 7,
     "metadata": {},
     "output_type": "execute_result"
    }
   ],
   "source": [
    "# Iterate feature extraction by dataset and pathogen\n",
    "\n",
    "d = {'pos': (df_pos, 1), 'neg': (df_neg, 0)} # df and label\n",
    "for pathogen in set(df_pos.Pathogen):\n",
    "    \n",
    "    # Store positive and negative feature arrays in a list\n",
    "    X = []\n",
    "    y = []\n",
    "    \n",
    "    # Iterate through positive & negative for pathogen\n",
    "    for data in d.keys():\n",
    "        df, label = d[data]\n",
    "        \n",
    "        # Select only the current pathogen from datasets\n",
    "        df_current = df[df.Pathogen == pathogen]\n",
    "        pairs = df_current.drop('Pathogen', axis=1).values\n",
    "\n",
    "        # Extract features\n",
    "        X_, y_ = pairs_to_features(pairs, label)\n",
    "        X.append(X_)\n",
    "        y.append(y_)\n",
    "    \n",
    "    # Combine positive and negative features and labels\n",
    "    X = sparse.vstack(X)\n",
    "    y = np.concatenate(y)\n",
    "    \n",
    "    # Dump data as pickle\n",
    "    ## Slice pathogen species name for file name\n",
    "    genus, species = pathogen.split()[:2]\n",
    "    name = genus[:3] + species[:2]\n",
    "\n",
    "    f_out = os.path.join(dir_out, '%s_features.pkl' % name)\n",
    "    joblib.dump((X, y), f_out)"
   ]
  },
  {
   "cell_type": "markdown",
   "metadata": {},
   "source": [
    "<hr></hr>"
   ]
  }
 ],
 "metadata": {
  "kernelspec": {
   "display_name": "Python 3",
   "language": "python",
   "name": "python3"
  },
  "language_info": {
   "codemirror_mode": {
    "name": "ipython",
    "version": 3
   },
   "file_extension": ".py",
   "mimetype": "text/x-python",
   "name": "python",
   "nbconvert_exporter": "python",
   "pygments_lexer": "ipython3",
   "version": "3.6.5"
  }
 },
 "nbformat": 4,
 "nbformat_minor": 2
}
