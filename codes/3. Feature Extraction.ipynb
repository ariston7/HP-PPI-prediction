{
 "cells": [
  {
   "cell_type": "markdown",
   "metadata": {},
   "source": [
    "# Extraction of Domain Features for Training Dataset\n",
    "\n",
    "Generate feature vectors of domain occurences in each protein pair"
   ]
  },
  {
   "cell_type": "code",
   "execution_count": 1,
   "metadata": {},
   "outputs": [],
   "source": [
    "import os\n",
    "import joblib\n",
    "\n",
    "import pandas as pd\n",
    "import numpy as np\n",
    "from scipy import sparse\n",
    "from tqdm import tqdm\n",
    "from functools import partial\n",
    "\n",
    "from features import domain_features\n",
    "\n",
    "# Print status of datasets\n",
    "def print_status(df):\n",
    "    \n",
    "    # For each pathogen\n",
    "    for pathogen in sorted(set(df.Pathogen)):\n",
    "        df_patho = df[df.Pathogen == pathogen]\n",
    "        i = len(df_patho)\n",
    "        p = len(set(df_patho.Pathogen_Uniprot_ID))\n",
    "        h = len(set(df_patho.Human_Uniprot_ID))\n",
    "        print('%s:\\n%i pairs involving %i pathogen proteins and %i human proteins\\n' % (pathogen, i, p, h))\n",
    "    \n",
    "    # Total\n",
    "    i = len(df)\n",
    "    p = len(set(df.Pathogen_Uniprot_ID))\n",
    "    h = len(set(df.Human_Uniprot_ID))\n",
    "    print('TOTAL:\\n%i pairs involving %i pathogen proteins and %i human proteins\\n' % (i, p, h))"
   ]
  },
  {
   "cell_type": "code",
   "execution_count": 2,
   "metadata": {},
   "outputs": [],
   "source": [
    "# Set up directories\n",
    "parent_dir = os.path.dirname(os.getcwd())\n",
    "\n",
    "dir_in = os.path.join(parent_dir, 'data')\n",
    "dir_out = os.path.join(parent_dir, 'data', 'features')"
   ]
  },
  {
   "cell_type": "code",
   "execution_count": 3,
   "metadata": {},
   "outputs": [
    {
     "name": "stdout",
     "output_type": "stream",
     "text": [
      "                          POSITIVE DATASET\n",
      "                           \n",
      "Bacillus anthracis:\n",
      "2764 pairs involving 857 pathogen proteins and 1565 human proteins\n",
      "\n",
      "Francisella tularensis SUBSPECIES TULARENSIS SCHU S4:\n",
      "1187 pairs involving 307 pathogen proteins and 884 human proteins\n",
      "\n",
      "Yersinia pestis:\n",
      "3590 pairs involving 1120 pathogen proteins and 1917 human proteins\n",
      "\n",
      "TOTAL:\n",
      "7541 pairs involving 2284 pathogen proteins and 3188 human proteins\n",
      "\n"
     ]
    }
   ],
   "source": [
    "# Load positive dataset\n",
    "f_in = os.path.join(dir_in, 'positive_pairs.tsv')\n",
    "df_pos = pd.read_csv(f_in, sep='\\t')\n",
    "\n",
    "print('POSITIVE DATASET\\n'.center(70))\n",
    "print_status(df_pos)"
   ]
  },
  {
   "cell_type": "code",
   "execution_count": 4,
   "metadata": {},
   "outputs": [
    {
     "name": "stdout",
     "output_type": "stream",
     "text": [
      "                          NEGATIVE DATASET\n",
      "                           \n",
      "Bacillus anthracis:\n",
      "36476 pairs involving 790 pathogen proteins and 1348 human proteins\n",
      "\n",
      "Francisella tularensis SUBSPECIES TULARENSIS SCHU S4:\n",
      "12654 pairs involving 278 pathogen proteins and 274 human proteins\n",
      "\n",
      "Yersinia pestis:\n",
      "49151 pairs involving 999 pathogen proteins and 966 human proteins\n",
      "\n",
      "TOTAL:\n",
      "98281 pairs involving 2067 pathogen proteins and 1753 human proteins\n",
      "\n"
     ]
    }
   ],
   "source": [
    "# Load negative dataset\n",
    "T = 0.8\n",
    "f_in = os.path.join(dir_in, 'negative_pairs_T%.2f.tsv' % T)\n",
    "df_neg = pd.read_csv(f_in, sep='\\t')\n",
    "\n",
    "print('NEGATIVE DATASET\\n'.center(70))\n",
    "print_status(df_neg)"
   ]
  },
  {
   "cell_type": "markdown",
   "metadata": {},
   "source": [
    "## Transform protein pairs into feature vectors\n",
    "\n",
    "Features:\n",
    "- domain profiles\n",
    "- host PPI graph topological properties"
   ]
  },
  {
   "cell_type": "code",
   "execution_count": 5,
   "metadata": {},
   "outputs": [
    {
     "name": "stderr",
     "output_type": "stream",
     "text": [
      "100%|██████████| 5695/5695 [00:05<00:00, 1014.24it/s]\n"
     ]
    }
   ],
   "source": [
    "# Load Pfam data\n",
    "pfam_dict, pfam_set = joblib.load('pfam.pkl')\n",
    "\n",
    "# Get features of each protein as dict\n",
    "feature_function = partial(domain_features,\n",
    "                           domain_dict=pfam_dict,\n",
    "                           domain_set=pfam_set)\n",
    "\n",
    "feat_dict = {prot: feature_function(prot) for prot in tqdm(pfam_dict.keys())}"
   ]
  },
  {
   "cell_type": "code",
   "execution_count": 6,
   "metadata": {},
   "outputs": [
    {
     "data": {
      "text/html": [
       "<div>\n",
       "<style scoped>\n",
       "    .dataframe tbody tr th:only-of-type {\n",
       "        vertical-align: middle;\n",
       "    }\n",
       "\n",
       "    .dataframe tbody tr th {\n",
       "        vertical-align: top;\n",
       "    }\n",
       "\n",
       "    .dataframe thead th {\n",
       "        text-align: right;\n",
       "    }\n",
       "</style>\n",
       "<table border=\"1\" class=\"dataframe\">\n",
       "  <thead>\n",
       "    <tr style=\"text-align: right;\">\n",
       "      <th></th>\n",
       "      <th>Eigenvector_centrality</th>\n",
       "      <th>Degree_centrality</th>\n",
       "      <th>Clustering_coefficient</th>\n",
       "      <th>Betweenness_centrality</th>\n",
       "    </tr>\n",
       "  </thead>\n",
       "  <tbody>\n",
       "    <tr>\n",
       "      <th>P00352</th>\n",
       "      <td>2.207378e-32</td>\n",
       "      <td>0.000209</td>\n",
       "      <td>0.000000</td>\n",
       "      <td>0.000000</td>\n",
       "    </tr>\n",
       "    <tr>\n",
       "      <th>B4E3U0,Q13683,Q4LE35</th>\n",
       "      <td>1.048165e-03</td>\n",
       "      <td>0.000626</td>\n",
       "      <td>0.166667</td>\n",
       "      <td>0.000298</td>\n",
       "    </tr>\n",
       "    <tr>\n",
       "      <th>P02708,Q53SH4</th>\n",
       "      <td>1.204406e-04</td>\n",
       "      <td>0.000417</td>\n",
       "      <td>0.000000</td>\n",
       "      <td>0.000401</td>\n",
       "    </tr>\n",
       "    <tr>\n",
       "      <th>Q9ULJ8,A1L494,B7ZLX4</th>\n",
       "      <td>1.922150e-03</td>\n",
       "      <td>0.000939</td>\n",
       "      <td>0.238095</td>\n",
       "      <td>0.000038</td>\n",
       "    </tr>\n",
       "    <tr>\n",
       "      <th>P63261</th>\n",
       "      <td>6.808116e-03</td>\n",
       "      <td>0.004381</td>\n",
       "      <td>0.025641</td>\n",
       "      <td>0.002309</td>\n",
       "    </tr>\n",
       "  </tbody>\n",
       "</table>\n",
       "</div>"
      ],
      "text/plain": [
       "                      Eigenvector_centrality  Degree_centrality  \\\n",
       "P00352                          2.207378e-32           0.000209   \n",
       "B4E3U0,Q13683,Q4LE35            1.048165e-03           0.000626   \n",
       "P02708,Q53SH4                   1.204406e-04           0.000417   \n",
       "Q9ULJ8,A1L494,B7ZLX4            1.922150e-03           0.000939   \n",
       "P63261                          6.808116e-03           0.004381   \n",
       "\n",
       "                      Clustering_coefficient  Betweenness_centrality  \n",
       "P00352                              0.000000                0.000000  \n",
       "B4E3U0,Q13683,Q4LE35                0.166667                0.000298  \n",
       "P02708,Q53SH4                       0.000000                0.000401  \n",
       "Q9ULJ8,A1L494,B7ZLX4                0.238095                0.000038  \n",
       "P63261                              0.025641                0.002309  "
      ]
     },
     "execution_count": 6,
     "metadata": {},
     "output_type": "execute_result"
    }
   ],
   "source": [
    "# Load human PPI graph topological properties as DataFrame\n",
    "f_in = os.path.join(dir_in, 'human_ppi_topology.tsv')\n",
    "\n",
    "df_props = pd.read_csv(f_in, sep='\\t', index_col=0)\n",
    "df_props.head()"
   ]
  },
  {
   "cell_type": "code",
   "execution_count": 7,
   "metadata": {},
   "outputs": [],
   "source": [
    "# Feature extraction: domain & human PPI graph features\n",
    "\n",
    "def pairs_to_features(protein_pairs, label):\n",
    "    '''Transform protein pairs into a vector of features and add labels.\n",
    "    Labels:\n",
    "    - 1 for positive dataset\n",
    "    - 0 for negative dataset\n",
    "    '''\n",
    "    \n",
    "    # Initialize an empty list for features\n",
    "    X = []\n",
    "    for pair in tqdm(protein_pairs):\n",
    "        domain_features = sum(map(feat_dict.get, pair))\n",
    "        graph_features = df_props[df_props.index.str.contains(pair[1])].values\n",
    "        \n",
    "        # Combine features\n",
    "        features = sparse.hstack((domain_features,\n",
    "                                  np.resize(graph_features, (1,4))))\n",
    "        X.append(features)\n",
    "    \n",
    "    # Save features as a sparse matrix\n",
    "    X = sparse.vstack(X)\n",
    "    \n",
    "    # Generate labels\n",
    "    y = np.array([label] * X.shape[0])\n",
    "    \n",
    "    return X, y"
   ]
  },
  {
   "cell_type": "code",
   "execution_count": 8,
   "metadata": {},
   "outputs": [
    {
     "name": "stderr",
     "output_type": "stream",
     "text": [
      "100%|██████████| 2764/2764 [00:15<00:00, 181.69it/s]\n",
      "100%|██████████| 36476/36476 [03:24<00:00, 177.97it/s]\n"
     ]
    },
    {
     "data": {
      "text/plain": [
       "['/home/rei/Documents/Thesis/HP-PPI-prediction/data/features/Bacan_features.pkl']"
      ]
     },
     "execution_count": 8,
     "metadata": {},
     "output_type": "execute_result"
    },
    {
     "name": "stderr",
     "output_type": "stream",
     "text": [
      "100%|██████████| 1187/1187 [00:06<00:00, 183.15it/s]\n",
      "100%|██████████| 12654/12654 [01:08<00:00, 183.77it/s]\n"
     ]
    },
    {
     "data": {
      "text/plain": [
       "['/home/rei/Documents/Thesis/HP-PPI-prediction/data/features/Fratu_features.pkl']"
      ]
     },
     "execution_count": 8,
     "metadata": {},
     "output_type": "execute_result"
    },
    {
     "name": "stderr",
     "output_type": "stream",
     "text": [
      "100%|██████████| 3590/3590 [00:19<00:00, 183.83it/s]\n",
      "100%|██████████| 49151/49151 [04:40<00:00, 175.51it/s]\n"
     ]
    },
    {
     "data": {
      "text/plain": [
       "['/home/rei/Documents/Thesis/HP-PPI-prediction/data/features/Yerpe_features.pkl']"
      ]
     },
     "execution_count": 8,
     "metadata": {},
     "output_type": "execute_result"
    }
   ],
   "source": [
    "# Iterate feature extraction by dataset and pathogen\n",
    "\n",
    "d = {'pos': (df_pos, 1), 'neg': (df_neg, 0)} # df and label\n",
    "for pathogen in set(df_pos.Pathogen):\n",
    "    \n",
    "    # Store positive and negative feature arrays in a list\n",
    "    X = []\n",
    "    y = []\n",
    "    \n",
    "    # Iterate through positive & negative for pathogen\n",
    "    for data in d.keys():\n",
    "        df, label = d[data]\n",
    "        \n",
    "        # Select only the current pathogen from datasets\n",
    "        df_current = df[df.Pathogen == pathogen]\n",
    "        pairs = df_current.drop('Pathogen', axis=1).values\n",
    "\n",
    "        # Extract features\n",
    "        X_, y_ = pairs_to_features(pairs, label)\n",
    "        X.append(X_)\n",
    "        y.append(y_)\n",
    "    \n",
    "    # Combine positive and negative features and labels\n",
    "    X = sparse.vstack(X)\n",
    "    y = np.concatenate(y)\n",
    "    \n",
    "    # Dump data as pickle\n",
    "    ## Slice pathogen species name for file name\n",
    "    genus, species = pathogen.split()[:2]\n",
    "    name = genus[:3] + species[:2]\n",
    "\n",
    "    f_out = os.path.join(dir_out, '%s_features.pkl' % name)\n",
    "    joblib.dump((X, y), f_out)"
   ]
  },
  {
   "cell_type": "markdown",
   "metadata": {},
   "source": [
    "<hr></hr>"
   ]
  }
 ],
 "metadata": {
  "kernelspec": {
   "display_name": "Python 3",
   "language": "python",
   "name": "python3"
  },
  "language_info": {
   "codemirror_mode": {
    "name": "ipython",
    "version": 3
   },
   "file_extension": ".py",
   "mimetype": "text/x-python",
   "name": "python",
   "nbconvert_exporter": "python",
   "pygments_lexer": "ipython3",
   "version": "3.6.5"
  }
 },
 "nbformat": 4,
 "nbformat_minor": 2
}
