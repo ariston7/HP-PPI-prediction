{
 "cells": [
  {
   "cell_type": "markdown",
   "metadata": {},
   "source": [
    "# PHISTO Data Preprocessing and Organization\n",
    "\n",
    "Preprocess the search results of host-pathogen protein-protein interactions from PHISTO (http://www.phisto.org) to use as training dataset.\n",
    "\n",
    "Search by taxonomy ID\n",
    "\n",
    "Full keyword: 'TAXONOMY ID'  = '1392'  OR  'TAXONOMY ID'  = '632'  OR  'TAXONOMY ID'  = '177416'\n",
    "- **632**: *Yersinia pestis*\n",
    "- **1392**: *Bacillus anthracis*\n",
    "- **166416**: *Francisella tularensis*"
   ]
  },
  {
   "cell_type": "code",
   "execution_count": 1,
   "metadata": {},
   "outputs": [],
   "source": [
    "import os\n",
    "import pandas as pd\n",
    "\n",
    "# Printing status of datasets\n",
    "def print_status(df):\n",
    "    i = len(df)\n",
    "    p = len(set(df.Pathogen_UniprotID))\n",
    "    h = len(set(df.Human_UniprotID))\n",
    "    print('Total:\\n%i interactions involving %i pathogen proteins and %i human proteins\\n' % (i, p, h))"
   ]
  },
  {
   "cell_type": "code",
   "execution_count": 2,
   "metadata": {},
   "outputs": [],
   "source": [
    "# Set up in and out directories\n",
    "parent_dir = os.path.dirname(os.getcwd())\n",
    "\n",
    "dir_in = dir_out = os.path.join(parent_dir, 'data')"
   ]
  },
  {
   "cell_type": "markdown",
   "metadata": {},
   "source": [
    "## Step 1: Obtain Uniprot accessions of proteins\n",
    "\n",
    "Extract list of pathogen and host proteins included in `PHISTO_data.csv` for ID mapping into the Uniprot database"
   ]
  },
  {
   "cell_type": "code",
   "execution_count": 3,
   "metadata": {},
   "outputs": [
    {
     "name": "stdout",
     "output_type": "stream",
     "text": [
      "Total:\n",
      "8541 interactions involving 2503 pathogen proteins and 3530 human proteins\n",
      "\n"
     ]
    },
    {
     "data": {
      "text/html": [
       "<div>\n",
       "<style scoped>\n",
       "    .dataframe tbody tr th:only-of-type {\n",
       "        vertical-align: middle;\n",
       "    }\n",
       "\n",
       "    .dataframe tbody tr th {\n",
       "        vertical-align: top;\n",
       "    }\n",
       "\n",
       "    .dataframe thead th {\n",
       "        text-align: right;\n",
       "    }\n",
       "</style>\n",
       "<table border=\"1\" class=\"dataframe\">\n",
       "  <thead>\n",
       "    <tr style=\"text-align: right;\">\n",
       "      <th></th>\n",
       "      <th>Pathogen_TaxID</th>\n",
       "      <th>Pathogen_UniprotID</th>\n",
       "      <th>Human_UniprotID</th>\n",
       "    </tr>\n",
       "  </thead>\n",
       "  <tbody>\n",
       "    <tr>\n",
       "      <th>0</th>\n",
       "      <td>632</td>\n",
       "      <td>Q9RI12</td>\n",
       "      <td>Q96FW1</td>\n",
       "    </tr>\n",
       "    <tr>\n",
       "      <th>2</th>\n",
       "      <td>632</td>\n",
       "      <td>Q7ARN6</td>\n",
       "      <td>P63000</td>\n",
       "    </tr>\n",
       "    <tr>\n",
       "      <th>3</th>\n",
       "      <td>632</td>\n",
       "      <td>Q74YG7</td>\n",
       "      <td>Q9HD26</td>\n",
       "    </tr>\n",
       "    <tr>\n",
       "      <th>4</th>\n",
       "      <td>632</td>\n",
       "      <td>Q8D0Q9</td>\n",
       "      <td>O43491</td>\n",
       "    </tr>\n",
       "    <tr>\n",
       "      <th>5</th>\n",
       "      <td>632</td>\n",
       "      <td>Q0WAP0</td>\n",
       "      <td>Q9P0K7</td>\n",
       "    </tr>\n",
       "  </tbody>\n",
       "</table>\n",
       "</div>"
      ],
      "text/plain": [
       "   Pathogen_TaxID Pathogen_UniprotID Human_UniprotID\n",
       "0             632             Q9RI12          Q96FW1\n",
       "2             632             Q7ARN6          P63000\n",
       "3             632             Q74YG7          Q9HD26\n",
       "4             632             Q8D0Q9          O43491\n",
       "5             632             Q0WAP0          Q9P0K7"
      ]
     },
     "execution_count": 3,
     "metadata": {},
     "output_type": "execute_result"
    }
   ],
   "source": [
    "# Read PHISTO file as DataFrame\n",
    "# Select only relevant columns\n",
    "f_in = os.path.join(dir_in, 'PHISTO_data.csv')\n",
    "\n",
    "columns = ['Taxonomy ID', 'Uniprot ID', 'Uniprot ID.1']\n",
    "df = pd.read_csv(f_in)[columns]\n",
    "\n",
    "# Remove duplicate interactions\n",
    "df.drop_duplicates(inplace=True)\n",
    "\n",
    "# Rename columns\n",
    "df.columns = ['Pathogen_TaxID',\n",
    "              'Pathogen_UniprotID',\n",
    "              'Human_UniprotID']\n",
    "\n",
    "print_status(df)\n",
    "df.head()"
   ]
  },
  {
   "cell_type": "code",
   "execution_count": 4,
   "metadata": {},
   "outputs": [
    {
     "name": "stdout",
     "output_type": "stream",
     "text": [
      "Pathogen: Saved 2503 Uniprot accessions\n",
      "Human: Saved 3530 Uniprot accessions\n"
     ]
    }
   ],
   "source": [
    "# Save protein lists for ID mapping in Uniprot\n",
    "for organism in ['Pathogen', 'Human']:\n",
    "    name = '%s_UniprotID' % organism\n",
    "    uniprot_ids = set(df[name])\n",
    "    \n",
    "    f_out = os.path.join(dir_out, name)\n",
    "    with open(f_out, 'w') as f:\n",
    "        _ = f.write('\\n'.join(uniprot_ids))\n",
    "        print('%s: Saved %i Uniprot accessions' % (organism,\n",
    "                                                   len(uniprot_ids)))"
   ]
  },
  {
   "cell_type": "code",
   "execution_count": null,
   "metadata": {},
   "outputs": [],
   "source": []
  }
 ],
 "metadata": {
  "kernelspec": {
   "display_name": "Python 3",
   "language": "python",
   "name": "python3"
  },
  "language_info": {
   "codemirror_mode": {
    "name": "ipython",
    "version": 3
   },
   "file_extension": ".py",
   "mimetype": "text/x-python",
   "name": "python",
   "nbconvert_exporter": "python",
   "pygments_lexer": "ipython3",
   "version": "3.6.5"
  }
 },
 "nbformat": 4,
 "nbformat_minor": 2
}
