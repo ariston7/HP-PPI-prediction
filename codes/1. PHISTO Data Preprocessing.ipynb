{
 "cells": [
  {
   "cell_type": "markdown",
   "metadata": {},
   "source": [
    "# PHISTO Data Preprocessing and Organization\n",
    "\n",
    "Preprocess the search results of host-pathogen protein-protein interactions from PHISTO (http://www.phisto.org)\n",
    "\n",
    "Search by taxonomy ID\n",
    "\n",
    "Full keyword: 'TAXONOMY ID'  = '1392'  OR  'TAXONOMY ID'  = '632'  OR  'TAXONOMY ID'  = '177416'\n",
    "- **632**: *Yersinia pestis*\n",
    "- **1392**: *Bacillus anthracis*\n",
    "- **166416**: *Francisella tularensis*"
   ]
  },
  {
   "cell_type": "code",
   "execution_count": null,
   "metadata": {},
   "outputs": [],
   "source": []
  }
 ],
 "metadata": {
  "kernelspec": {
   "display_name": "Python 3",
   "language": "python",
   "name": "python3"
  },
  "language_info": {
   "codemirror_mode": {
    "name": "ipython",
    "version": 3
   },
   "file_extension": ".py",
   "mimetype": "text/x-python",
   "name": "python",
   "nbconvert_exporter": "python",
   "pygments_lexer": "ipython3",
   "version": "3.6.5"
  }
 },
 "nbformat": 4,
 "nbformat_minor": 2
}
