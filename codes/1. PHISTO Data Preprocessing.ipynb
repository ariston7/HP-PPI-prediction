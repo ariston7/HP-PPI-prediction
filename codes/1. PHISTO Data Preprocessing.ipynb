{
 "cells": [
  {
   "cell_type": "markdown",
   "metadata": {},
   "source": [
    "# 1. PHISTO Data Preprocessing and Organization\n",
    "\n",
    "Preprocess the search results of host-pathogen protein-protein interactions from PHISTO (http://www.phisto.org) to use as training dataset.\n",
    "\n",
    "Accessed: 14 June 2019\n",
    "\n",
    "Search by taxonomy ID\n",
    "\n",
    ">Full keyword: 'TAXONOMY ID'  = '1392'  OR  'TAXONOMY ID'  = '632'  OR  'TAXONOMY ID'  = '177416'\n",
    "- **632**: *Yersinia pestis*\n",
    "- **1392**: *Bacillus anthracis*\n",
    "- **177416**: *Francisella tularensis*"
   ]
  },
  {
   "cell_type": "code",
   "execution_count": 1,
   "metadata": {},
   "outputs": [],
   "source": [
    "import os\n",
    "import joblib\n",
    "import pandas as pd\n",
    "\n",
    "from Bio import SearchIO\n",
    "\n",
    "# Print status of datasets\n",
    "def print_status(df):\n",
    "    \n",
    "    # For each pathogen\n",
    "    for pathogen in sorted(set(df.Pathogen)):\n",
    "        df_patho = df[df.Pathogen == pathogen]\n",
    "        i = len(df_patho)\n",
    "        p = len(set(df_patho.Pathogen_Uniprot_ID))\n",
    "        h = len(set(df_patho.Human_Uniprot_ID))\n",
    "        print('%s:\\n%i interactions involving %i pathogen proteins and %i human proteins\\n' % (pathogen, i, p, h))\n",
    "    \n",
    "    # Total\n",
    "    i = len(df)\n",
    "    p = len(set(df.Pathogen_Uniprot_ID))\n",
    "    h = len(set(df.Human_Uniprot_ID))\n",
    "    print('TOTAL:\\n%i interactions involving %i pathogen proteins and %i human proteins\\n' % (i, p, h))"
   ]
  },
  {
   "cell_type": "code",
   "execution_count": 2,
   "metadata": {},
   "outputs": [],
   "source": [
    "# Set up in and out directories\n",
    "parent_dir = os.path.dirname(os.getcwd())\n",
    "\n",
    "dir_in = os.path.join(parent_dir, 'raw_data', 'training')\n",
    "dir_out = os.path.join(parent_dir, 'processed_data')"
   ]
  },
  {
   "cell_type": "markdown",
   "metadata": {},
   "source": [
    "## Step 1: Mapping Uniprot accessions of PHISTO proteins\n",
    "\n",
    "Extract list of pathogen and host proteins included in `PHISTO_data.csv` for ID mapping into the Uniprot database"
   ]
  },
  {
   "cell_type": "code",
   "execution_count": 3,
   "metadata": {},
   "outputs": [
    {
     "name": "stdout",
     "output_type": "stream",
     "text": [
      "Bacillus anthracis:\n",
      "3088 interactions involving 938 pathogen proteins and 1710 human proteins\n",
      "\n",
      "Francisella tularensis SUBSPECIES TULARENSIS SCHU S4:\n",
      "1352 interactions involving 342 pathogen proteins and 998 human proteins\n",
      "\n",
      "Yersinia pestis:\n",
      "4101 interactions involving 1223 pathogen proteins and 2151 human proteins\n",
      "\n",
      "TOTAL:\n",
      "8541 interactions involving 2503 pathogen proteins and 3530 human proteins\n",
      "\n"
     ]
    },
    {
     "data": {
      "text/html": [
       "<div>\n",
       "<style scoped>\n",
       "    .dataframe tbody tr th:only-of-type {\n",
       "        vertical-align: middle;\n",
       "    }\n",
       "\n",
       "    .dataframe tbody tr th {\n",
       "        vertical-align: top;\n",
       "    }\n",
       "\n",
       "    .dataframe thead th {\n",
       "        text-align: right;\n",
       "    }\n",
       "</style>\n",
       "<table border=\"1\" class=\"dataframe\">\n",
       "  <thead>\n",
       "    <tr style=\"text-align: right;\">\n",
       "      <th></th>\n",
       "      <th>Pathogen</th>\n",
       "      <th>Pathogen_Uniprot_ID</th>\n",
       "      <th>Human_Uniprot_ID</th>\n",
       "    </tr>\n",
       "  </thead>\n",
       "  <tbody>\n",
       "    <tr>\n",
       "      <th>0</th>\n",
       "      <td>Yersinia pestis</td>\n",
       "      <td>Q9RI12</td>\n",
       "      <td>Q96FW1</td>\n",
       "    </tr>\n",
       "    <tr>\n",
       "      <th>2</th>\n",
       "      <td>Yersinia pestis</td>\n",
       "      <td>Q7ARN6</td>\n",
       "      <td>P63000</td>\n",
       "    </tr>\n",
       "    <tr>\n",
       "      <th>3</th>\n",
       "      <td>Yersinia pestis</td>\n",
       "      <td>Q74YG7</td>\n",
       "      <td>Q9HD26</td>\n",
       "    </tr>\n",
       "    <tr>\n",
       "      <th>4</th>\n",
       "      <td>Yersinia pestis</td>\n",
       "      <td>Q8D0Q9</td>\n",
       "      <td>O43491</td>\n",
       "    </tr>\n",
       "    <tr>\n",
       "      <th>5</th>\n",
       "      <td>Yersinia pestis</td>\n",
       "      <td>Q0WAP0</td>\n",
       "      <td>Q9P0K7</td>\n",
       "    </tr>\n",
       "  </tbody>\n",
       "</table>\n",
       "</div>"
      ],
      "text/plain": [
       "          Pathogen Pathogen_Uniprot_ID Human_Uniprot_ID\n",
       "0  Yersinia pestis              Q9RI12           Q96FW1\n",
       "2  Yersinia pestis              Q7ARN6           P63000\n",
       "3  Yersinia pestis              Q74YG7           Q9HD26\n",
       "4  Yersinia pestis              Q8D0Q9           O43491\n",
       "5  Yersinia pestis              Q0WAP0           Q9P0K7"
      ]
     },
     "execution_count": 3,
     "metadata": {},
     "output_type": "execute_result"
    }
   ],
   "source": [
    "# Read PHISTO file as DataFrame\n",
    "# Select only relevant columns\n",
    "f_in = os.path.join(dir_in, 'PHISTO_data.csv')\n",
    "\n",
    "columns = ['Pathogen', 'Uniprot ID', 'Uniprot ID.1']\n",
    "df = pd.read_csv(f_in)[columns]\n",
    "\n",
    "# Replace obsolete Uniprot IDs with the active ones\n",
    "replacements = {'A0A1A9IFF4': 'A0A2P0HB98',\n",
    "                'A0A1A9IJH2': 'A0A2P0HHP2'}\n",
    "df.replace(replacements, inplace=True)\n",
    "\n",
    "# Remove duplicate interactions\n",
    "df.drop_duplicates(inplace=True)\n",
    "\n",
    "# Rename columns\n",
    "df.columns = ['Pathogen',\n",
    "              'Pathogen_Uniprot_ID',\n",
    "              'Human_Uniprot_ID']\n",
    "\n",
    "print_status(df)\n",
    "df.head()"
   ]
  },
  {
   "cell_type": "code",
   "execution_count": 4,
   "metadata": {},
   "outputs": [
    {
     "name": "stdout",
     "output_type": "stream",
     "text": [
      "Written 6033 Uniprot accessions\n"
     ]
    }
   ],
   "source": [
    "# Obtain protein accessions for ID mapping in Uniprot\n",
    "uniprot_ids = []\n",
    "\n",
    "for organism in ['Pathogen', 'Human']:\n",
    "    protein_set = set(df['%s_Uniprot_ID' % organism])\n",
    "    uniprot_ids = uniprot_ids + list(protein_set)\n",
    "\n",
    "# Save Uniprot accessions into a file\n",
    "f_out = os.path.join(dir_in, 'PHISTO_proteins_list')\n",
    "\n",
    "with open(f_out, 'w') as f:\n",
    "    _ = f.write('\\n'.join(uniprot_ids))\n",
    "    print('Written %i Uniprot accessions' % len(uniprot_ids))"
   ]
  },
  {
   "cell_type": "markdown",
   "metadata": {},
   "source": [
    "## Uniprot ID mapping and sequence search\n",
    "\n",
    "Source: https://www.uniprot.org\n",
    "\n",
    ">Filters:\n",
    "- active accessions\n",
    "- sequence lengths >= 50\n",
    "\n",
    ">Important fields:\n",
    "- `Your list` column: query Uniprot accessions (renamed into `Query` after download)\n",
    "- `Entry`: primary Uniprot accession of the query protein\n",
    "- `Length`: sequence length of the protein\n",
    "\n",
    ">Results files:\n",
    "- Uniprot ID mapping: `uniprot_mapping.tab`\n",
    "- Sequences: `uniprot_sequences.fasta`\n",
    "<hr></hr>"
   ]
  },
  {
   "cell_type": "markdown",
   "metadata": {},
   "source": [
    "## Curation of Uniprot ID mapping result\n",
    "\n",
    "Modify `uniprot_mapping.tab` manually to ensure one-to-one mapping between `Query` and `Entry`"
   ]
  },
  {
   "cell_type": "markdown",
   "metadata": {},
   "source": [
    "**A single entry for multiple queries**: map only the matching IDs\n",
    "\n",
    ">`O95766,P86790 -> P86790`\n",
    "- `O95766` is already mapped to `P86791`\n",
    "\n",
    ">`Q68DN6,P0DJD1 -> P0DJD1`\n",
    "- `Q68DN6` is already mapped to `P0DJD0`\n",
    "\n",
    ">`P0CL84,Q6NXR2 -> P0CL84`\n",
    "- `Q6NXR2` is already mapped to `P0CL83`"
   ]
  },
  {
   "cell_type": "markdown",
   "metadata": {},
   "source": [
    "**Multiple entries for one query**: map based on sequence identity (manual web search)\n",
    "\n",
    ">`P62158 -> P0DP23,P0DP24,P0DP25`\n",
    "- map only to **`P0DP23`**\n",
    "\n",
    ">`P30042 -> P0DPI2,A0A0B4J2D5`\n",
    "- map only to **`P0DPI2`**\n",
    "\n",
    ">`P08107 -> P0DMV8,P0DMV9`\n",
    "- map only to **`P0DMV8`**\n",
    "\n",
    ">`Q6NXR2 -> P0CL83,P0CL85`\n",
    "- map only to **`P0CL83`**"
   ]
  },
  {
   "cell_type": "markdown",
   "metadata": {},
   "source": [
    "## Step 2: Filter interactions\n",
    "\n",
    "Filter PHISTO interactions by sequence length and domain availability"
   ]
  },
  {
   "cell_type": "markdown",
   "metadata": {},
   "source": [
    "### Replacing IDs of interactors with primary Uniprot IDs"
   ]
  },
  {
   "cell_type": "code",
   "execution_count": 5,
   "metadata": {},
   "outputs": [
    {
     "name": "stdout",
     "output_type": "stream",
     "text": [
      "Obtained 6008 proteins from Uniprot ID mapping\n",
      "\n"
     ]
    },
    {
     "data": {
      "text/html": [
       "<div>\n",
       "<style scoped>\n",
       "    .dataframe tbody tr th:only-of-type {\n",
       "        vertical-align: middle;\n",
       "    }\n",
       "\n",
       "    .dataframe tbody tr th {\n",
       "        vertical-align: top;\n",
       "    }\n",
       "\n",
       "    .dataframe thead th {\n",
       "        text-align: right;\n",
       "    }\n",
       "</style>\n",
       "<table border=\"1\" class=\"dataframe\">\n",
       "  <thead>\n",
       "    <tr style=\"text-align: right;\">\n",
       "      <th></th>\n",
       "      <th>Query</th>\n",
       "      <th>Entry</th>\n",
       "    </tr>\n",
       "  </thead>\n",
       "  <tbody>\n",
       "    <tr>\n",
       "      <th>0</th>\n",
       "      <td>O75575</td>\n",
       "      <td>O75575</td>\n",
       "    </tr>\n",
       "    <tr>\n",
       "      <th>1</th>\n",
       "      <td>Q96AT9</td>\n",
       "      <td>Q96AT9</td>\n",
       "    </tr>\n",
       "    <tr>\n",
       "      <th>2</th>\n",
       "      <td>P52434</td>\n",
       "      <td>P52434</td>\n",
       "    </tr>\n",
       "    <tr>\n",
       "      <th>3</th>\n",
       "      <td>Q6ZNA4</td>\n",
       "      <td>Q6ZNA4</td>\n",
       "    </tr>\n",
       "    <tr>\n",
       "      <th>4</th>\n",
       "      <td>P61587</td>\n",
       "      <td>P61587</td>\n",
       "    </tr>\n",
       "  </tbody>\n",
       "</table>\n",
       "</div>"
      ],
      "text/plain": [
       "    Query   Entry\n",
       "0  O75575  O75575\n",
       "1  Q96AT9  Q96AT9\n",
       "2  P52434  P52434\n",
       "3  Q6ZNA4  Q6ZNA4\n",
       "4  P61587  P61587"
      ]
     },
     "execution_count": 5,
     "metadata": {},
     "output_type": "execute_result"
    }
   ],
   "source": [
    "# Load mapping results\n",
    "# Select only relevant columns: Query and Entry\n",
    "f_in = os.path.join(dir_in, 'uniprot_mapping.tab')\n",
    "df_map = pd.read_csv(f_in, sep='\\t')[['Query', 'Entry']]\n",
    "\n",
    "print('Obtained %i proteins from Uniprot ID mapping\\n' % len(df_map))\n",
    "df_map.head()"
   ]
  },
  {
   "cell_type": "code",
   "execution_count": 6,
   "metadata": {},
   "outputs": [
    {
     "name": "stdout",
     "output_type": "stream",
     "text": [
      "Bacillus anthracis:\n",
      "3088 interactions involving 938 pathogen proteins and 1710 human proteins\n",
      "\n",
      "Francisella tularensis SUBSPECIES TULARENSIS SCHU S4:\n",
      "1352 interactions involving 342 pathogen proteins and 998 human proteins\n",
      "\n",
      "Yersinia pestis:\n",
      "4101 interactions involving 1223 pathogen proteins and 2151 human proteins\n",
      "\n",
      "TOTAL:\n",
      "8541 interactions involving 2503 pathogen proteins and 3530 human proteins\n",
      "\n"
     ]
    }
   ],
   "source": [
    "#Replace Uniprot IDs in PHISTO DataFrame with the ones in Entry\n",
    "replace_dict = {query: entry for query, entry in df_map.values}\n",
    "df.replace(replace_dict, inplace=True)\n",
    "\n",
    "print_status(df)"
   ]
  },
  {
   "cell_type": "markdown",
   "metadata": {},
   "source": [
    "### Parse `hmmscan` result\n",
    "\n",
    "Domain scan via `hmmscan` (HMMER 3.2.1) against Pfam-A database (`Pfam-A.hmm`; downloaded from ftp://ftp.ebi.ac.uk/pub/databases/Pfam/\n",
    "\n",
    "Full terminal command:\n",
    "\n",
    "`hmmscan --tblout pfam_hits --acc --noali -E 0.00001 --domE 0.00001 --cpu 7 ~/hmmer-3.2.1/pfam/Pfam-A.hmm uniprot_sequences.fasta`"
   ]
  },
  {
   "cell_type": "code",
   "execution_count": 7,
   "metadata": {},
   "outputs": [
    {
     "name": "stdout",
     "output_type": "stream",
     "text": [
      "Obtained 4456 domains from 5695 proteins\n"
     ]
    }
   ],
   "source": [
    "# Parse hmmscan output\n",
    "f_in = os.path.join(dir_in, 'pfam_hits')\n",
    "\n",
    "pfam_dict = {}\n",
    "pfam_set = set() # store unique Pfam accessions\n",
    "domains = [] # store domain descriptions\n",
    "\n",
    "for query in SearchIO.parse(f_in, 'hmmer3-tab'):\n",
    "    uniprot_id = query.id.split('|')[1]\n",
    "    domain_counts = {} # store domain counts\n",
    "    \n",
    "    # Read each domain hits in query\n",
    "    for hit in query.hits:\n",
    "        pfam_acc = hit.accession.split('.')[0]\n",
    "        \n",
    "        # Add Pfam accession along with its number of occurences\n",
    "        domain_counts[pfam_acc] = hit.domain_reported_num\n",
    "        pfam_set.add(pfam_acc)\n",
    "        domains.append((pfam_acc, hit.description))\n",
    "        \n",
    "    # Map Uniprot ID to a dict of its domain counts\n",
    "    pfam_dict[uniprot_id] = domain_counts\n",
    "\n",
    "# Print statistics\n",
    "print('Obtained %i domains from %i proteins' % (len(pfam_set), len(pfam_dict)))"
   ]
  },
  {
   "cell_type": "code",
   "execution_count": 8,
   "metadata": {},
   "outputs": [],
   "source": [
    "# Save complete domain descriptions into a DataFrame\n",
    "f_out = os.path.join(dir_out, 'pfam_domain_descriptions.tsv')\n",
    "\n",
    "df_pfam = pd.DataFrame(domains, columns=['Pfam_ID', 'Description'])\n",
    "\n",
    "df_pfam.drop_duplicates(inplace=True)\n",
    "df_pfam.sort_values(by='Pfam_ID', inplace=True)\n",
    "df_pfam.to_csv(f_out, sep='\\t', index=False)\n",
    "\n",
    "# Dump domains data as pickled files for further uses\n",
    "_ = joblib.dump((pfam_dict, sorted(pfam_set)), 'pfam.pkl')"
   ]
  },
  {
   "cell_type": "code",
   "execution_count": 9,
   "metadata": {},
   "outputs": [
    {
     "name": "stdout",
     "output_type": "stream",
     "text": [
      "Bacillus anthracis:\n",
      "2764 interactions involving 857 pathogen proteins and 1565 human proteins\n",
      "\n",
      "Francisella tularensis SUBSPECIES TULARENSIS SCHU S4:\n",
      "1187 interactions involving 307 pathogen proteins and 884 human proteins\n",
      "\n",
      "Yersinia pestis:\n",
      "3590 interactions involving 1120 pathogen proteins and 1917 human proteins\n",
      "\n",
      "TOTAL:\n",
      "7541 interactions involving 2284 pathogen proteins and 3188 human proteins\n",
      "\n"
     ]
    }
   ],
   "source": [
    "# Filter interactions by availability of domains\n",
    "p_filter = df.Pathogen_Uniprot_ID.isin(pfam_dict.keys())\n",
    "h_filter = df.Human_Uniprot_ID.isin(pfam_dict.keys())\n",
    "df = df[p_filter & h_filter]\n",
    "\n",
    "print_status(df)"
   ]
  },
  {
   "cell_type": "code",
   "execution_count": 10,
   "metadata": {},
   "outputs": [],
   "source": [
    "# Save final interaction DataFrame\n",
    "f_out = os.path.join(dir_out, 'positive_pairs.tsv')\n",
    "df.to_csv(f_out, sep='\\t', index=False)"
   ]
  },
  {
   "cell_type": "markdown",
   "metadata": {},
   "source": [
    "<hr></hr>"
   ]
  }
 ],
 "metadata": {
  "kernelspec": {
   "display_name": "Python 3",
   "language": "python",
   "name": "python3"
  },
  "language_info": {
   "codemirror_mode": {
    "name": "ipython",
    "version": 3
   },
   "file_extension": ".py",
   "mimetype": "text/x-python",
   "name": "python",
   "nbconvert_exporter": "python",
   "pygments_lexer": "ipython3",
   "version": "3.6.5"
  }
 },
 "nbformat": 4,
 "nbformat_minor": 2
}
