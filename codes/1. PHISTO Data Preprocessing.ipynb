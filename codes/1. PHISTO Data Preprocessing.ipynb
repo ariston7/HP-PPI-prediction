{
 "cells": [
  {
   "cell_type": "markdown",
   "metadata": {},
   "source": [
    "# PHISTO Data Preprocessing and Organization\n",
    "\n",
    "Preprocess the search results of host-pathogen protein-protein interactions from PHISTO (http://www.phisto.org) to use as training dataset.\n",
    "\n",
    "Search by taxonomy ID\n",
    "\n",
    "Full keyword: 'TAXONOMY ID'  = '1392'  OR  'TAXONOMY ID'  = '632'  OR  'TAXONOMY ID'  = '177416'\n",
    "- **632**: *Yersinia pestis*\n",
    "- **1392**: *Bacillus anthracis*\n",
    "- **166416**: *Francisella tularensis*"
   ]
  },
  {
   "cell_type": "code",
   "execution_count": 13,
   "metadata": {},
   "outputs": [],
   "source": [
    "import os\n",
    "import pandas as pd\n",
    "\n",
    "# Printing status of datasets\n",
    "def print_status(df):\n",
    "    i = len(df)\n",
    "    p = len(set(df.Pathogen_UniprotID))\n",
    "    h = len(set(df.Human_UniprotID))\n",
    "    print('Total:\\n%i interactions involving %i pathogen proteins and %i human proteins' % (i, p, h))"
   ]
  },
  {
   "cell_type": "code",
   "execution_count": 14,
   "metadata": {},
   "outputs": [],
   "source": [
    "# Set up in and out directories\n",
    "parent_dir = os.path.dirname(os.getcwd())\n",
    "\n",
    "dir_in = dir_out = os.path.join(parent_dir, 'data')"
   ]
  },
  {
   "cell_type": "markdown",
   "metadata": {},
   "source": [
    "## Step 1: Obtain Uniprot accessions of proteins\n",
    "\n",
    "Extract list of pathogen and host proteins included in `PHISTO_data.csv`"
   ]
  },
  {
   "cell_type": "code",
   "execution_count": 16,
   "metadata": {},
   "outputs": [
    {
     "name": "stdout",
     "output_type": "stream",
     "text": [
      "Total:\n",
      "8541 interactions involving 2503 pathogen proteins and 3530 human proteins\n"
     ]
    }
   ],
   "source": [
    "# Read PHISTO file as DataFrame\n",
    "# Select only relevant columns\n",
    "f_in = os.path.join(dir_in, 'PHISTO_data.csv')\n",
    "\n",
    "columns = ['Taxonomy ID', 'Uniprot ID', 'Uniprot ID.1']\n",
    "df = pd.read_csv(f_in)[columns].drop_duplicates()\n",
    "df.drop_duplicates()\n",
    "# Rename columns\n",
    "df.columns = ['Pathogen_TaxID',\n",
    "              'Pathogen_UniprotID',\n",
    "              'Human_UniprotID']\n",
    "print_status(df)"
   ]
  }
 ],
 "metadata": {
  "kernelspec": {
   "display_name": "Python 3",
   "language": "python",
   "name": "python3"
  },
  "language_info": {
   "codemirror_mode": {
    "name": "ipython",
    "version": 3
   },
   "file_extension": ".py",
   "mimetype": "text/x-python",
   "name": "python",
   "nbconvert_exporter": "python",
   "pygments_lexer": "ipython3",
   "version": "3.6.5"
  }
 },
 "nbformat": 4,
 "nbformat_minor": 2
}
