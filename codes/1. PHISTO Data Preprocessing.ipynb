{
 "cells": [
  {
   "cell_type": "markdown",
   "metadata": {},
   "source": [
    "# PHISTO Data Preprocessing and Organization\n",
    "\n",
    "Preprocess the search results of host-pathogen protein-protein interactions from PHISTO (http://www.phisto.org) to use as training dataset.\n",
    "\n",
    "Search by taxonomy ID\n",
    "\n",
    ">Full keyword: 'TAXONOMY ID'  = '1392'  OR  'TAXONOMY ID'  = '632'  OR  'TAXONOMY ID'  = '177416'\n",
    "- **632**: *Yersinia pestis*\n",
    "- **1392**: *Bacillus anthracis*\n",
    "- **166416**: *Francisella tularensis*"
   ]
  },
  {
   "cell_type": "code",
   "execution_count": 1,
   "metadata": {},
   "outputs": [],
   "source": [
    "import os\n",
    "import pandas as pd\n",
    "\n",
    "# Printing status of datasets\n",
    "def print_status(df):\n",
    "    \n",
    "    # For each pathogen\n",
    "    for pathogen in sorted(set(df.Pathogen)):\n",
    "        df_patho = df[df.Pathogen == pathogen]\n",
    "        i = len(df_patho)\n",
    "        p = len(set(df_patho.Pathogen_Uniprot_ID))\n",
    "        h = len(set(df_patho.Human_Uniprot_ID))\n",
    "        print('%s:\\n%i interactions involving %i pathogen proteins and %i human proteins\\n' % (pathogen, i, p, h))\n",
    "    \n",
    "    # Total\n",
    "    i = len(df)\n",
    "    p = len(set(df.Pathogen_Uniprot_ID))\n",
    "    h = len(set(df.Human_Uniprot_ID))\n",
    "    print('TOTAL:\\n%i interactions involving %i pathogen proteins and %i human proteins\\n' % (i, p, h))"
   ]
  },
  {
   "cell_type": "code",
   "execution_count": 2,
   "metadata": {},
   "outputs": [],
   "source": [
    "# Set up in and out directories\n",
    "parent_dir = os.path.dirname(os.getcwd())\n",
    "\n",
    "dir_in = dir_out = os.path.join(parent_dir, 'data')"
   ]
  },
  {
   "cell_type": "markdown",
   "metadata": {},
   "source": [
    "## Step 1: Mapping Uniprot accessions of PHISTO proteins\n",
    "\n",
    "Extract list of pathogen and host proteins included in `PHISTO_data.csv` for ID mapping into the Uniprot database"
   ]
  },
  {
   "cell_type": "code",
   "execution_count": 3,
   "metadata": {},
   "outputs": [
    {
     "name": "stdout",
     "output_type": "stream",
     "text": [
      "Bacillus anthracis:\n",
      "3088 interactions involving 938 pathogen proteins and 1710 human proteins\n",
      "\n",
      "Francisella tularensis SUBSPECIES TULARENSIS SCHU S4:\n",
      "1352 interactions involving 342 pathogen proteins and 998 human proteins\n",
      "\n",
      "Yersinia pestis:\n",
      "4101 interactions involving 1223 pathogen proteins and 2151 human proteins\n",
      "\n",
      "TOTAL:\n",
      "8541 interactions involving 2503 pathogen proteins and 3530 human proteins\n",
      "\n"
     ]
    },
    {
     "data": {
      "text/html": [
       "<div>\n",
       "<style scoped>\n",
       "    .dataframe tbody tr th:only-of-type {\n",
       "        vertical-align: middle;\n",
       "    }\n",
       "\n",
       "    .dataframe tbody tr th {\n",
       "        vertical-align: top;\n",
       "    }\n",
       "\n",
       "    .dataframe thead th {\n",
       "        text-align: right;\n",
       "    }\n",
       "</style>\n",
       "<table border=\"1\" class=\"dataframe\">\n",
       "  <thead>\n",
       "    <tr style=\"text-align: right;\">\n",
       "      <th></th>\n",
       "      <th>Pathogen</th>\n",
       "      <th>Pathogen_Uniprot_ID</th>\n",
       "      <th>Human_Uniprot_ID</th>\n",
       "    </tr>\n",
       "  </thead>\n",
       "  <tbody>\n",
       "    <tr>\n",
       "      <th>0</th>\n",
       "      <td>Yersinia pestis</td>\n",
       "      <td>Q9RI12</td>\n",
       "      <td>Q96FW1</td>\n",
       "    </tr>\n",
       "    <tr>\n",
       "      <th>2</th>\n",
       "      <td>Yersinia pestis</td>\n",
       "      <td>Q7ARN6</td>\n",
       "      <td>P63000</td>\n",
       "    </tr>\n",
       "    <tr>\n",
       "      <th>3</th>\n",
       "      <td>Yersinia pestis</td>\n",
       "      <td>Q74YG7</td>\n",
       "      <td>Q9HD26</td>\n",
       "    </tr>\n",
       "    <tr>\n",
       "      <th>4</th>\n",
       "      <td>Yersinia pestis</td>\n",
       "      <td>Q8D0Q9</td>\n",
       "      <td>O43491</td>\n",
       "    </tr>\n",
       "    <tr>\n",
       "      <th>5</th>\n",
       "      <td>Yersinia pestis</td>\n",
       "      <td>Q0WAP0</td>\n",
       "      <td>Q9P0K7</td>\n",
       "    </tr>\n",
       "  </tbody>\n",
       "</table>\n",
       "</div>"
      ],
      "text/plain": [
       "          Pathogen Pathogen_Uniprot_ID Human_Uniprot_ID\n",
       "0  Yersinia pestis              Q9RI12           Q96FW1\n",
       "2  Yersinia pestis              Q7ARN6           P63000\n",
       "3  Yersinia pestis              Q74YG7           Q9HD26\n",
       "4  Yersinia pestis              Q8D0Q9           O43491\n",
       "5  Yersinia pestis              Q0WAP0           Q9P0K7"
      ]
     },
     "execution_count": 3,
     "metadata": {},
     "output_type": "execute_result"
    }
   ],
   "source": [
    "# Read PHISTO file as DataFrame\n",
    "# Select only relevant columns\n",
    "f_in = os.path.join(dir_in, 'PHISTO_data.csv')\n",
    "\n",
    "columns = ['Pathogen', 'Uniprot ID', 'Uniprot ID.1']\n",
    "df = pd.read_csv(f_in)[columns]\n",
    "\n",
    "# Replace obsolete Uniprot IDs with the active ones\n",
    "replacements = {'A0A1A9IFF4': 'A0A2P0HB98',\n",
    "                'A0A1A9IJH2': 'A0A2P0HHP2'}\n",
    "df.replace(replacements, inplace=True)\n",
    "\n",
    "# Remove duplicate interactions\n",
    "df.drop_duplicates(inplace=True)\n",
    "\n",
    "# Rename columns\n",
    "df.columns = ['Pathogen',\n",
    "              'Pathogen_Uniprot_ID',\n",
    "              'Human_Uniprot_ID']\n",
    "\n",
    "print_status(df)\n",
    "df.head()"
   ]
  },
  {
   "cell_type": "code",
   "execution_count": 4,
   "metadata": {},
   "outputs": [
    {
     "name": "stdout",
     "output_type": "stream",
     "text": [
      "Written 6033 Uniprot accessions\n"
     ]
    }
   ],
   "source": [
    "# Obtain protein accessions for ID mapping in Uniprot\n",
    "uniprot_ids = []\n",
    "\n",
    "for organism in ['Pathogen', 'Human']:\n",
    "    protein_set = set(df['%s_Uniprot_ID' % organism])\n",
    "    uniprot_ids = uniprot_ids + list(protein_set)\n",
    "\n",
    "# Save Uniprot accessions into a file\n",
    "f_out = os.path.join(dir_out, 'PHISTO_proteins_list')\n",
    "\n",
    "with open(f_out, 'w') as f:\n",
    "    _ = f.write('\\n'.join(uniprot_ids))\n",
    "    print('Written %i Uniprot accessions' % len(uniprot_ids))"
   ]
  },
  {
   "cell_type": "markdown",
   "metadata": {},
   "source": [
    "## Uniprot ID mapping\n",
    "\n",
    "Source: https://www.uniprot.org\n",
    "\n",
    ">Filters:\n",
    "- active accessions\n",
    "- sequence lengths >= 50\n",
    "\n",
    ">Important fields:\n",
    "- `Your list` column: query Uniprot accessions (renamed into `Query` after download)\n",
    "- `Entry`: primary Uniprot accession of the query protein\n",
    "- `Length`: sequence length of the protein\n",
    "\n",
    "<hr></hr>"
   ]
  },
  {
   "cell_type": "markdown",
   "metadata": {},
   "source": [
    "## Curation of Uniprot ID mapping result\n",
    "\n",
    "Modify `uniprot_mapping.tab` manually to ensure one-to-one mapping between `Query` and `Entry`"
   ]
  },
  {
   "cell_type": "markdown",
   "metadata": {},
   "source": [
    "**A single entry for multiple queries**: map only the matching IDs\n",
    "\n",
    ">`O95766,P86790 -> P86790`\n",
    "- `O95766` is already mapped to `P86791`\n",
    "\n",
    ">`Q68DN6,P0DJD1 -> P0DJD1`\n",
    "- `Q68DN6` is already mapped to `P0DJD0`\n",
    "\n",
    ">`P0CL84,Q6NXR2 -> P0CL84`\n",
    "- `Q6NXR2` is already mapped to `P0CL83`"
   ]
  },
  {
   "cell_type": "markdown",
   "metadata": {},
   "source": [
    "**Multiple entries for one query**: map based on sequence identity (manual web search)\n",
    "\n",
    ">`P62158 -> P0DP23,P0DP24,P0DP25`\n",
    "- map only to **`P0DP23`**\n",
    "\n",
    ">`P30042 -> P0DPI2,A0A0B4J2D5`\n",
    "- map only to **`P0DPI2`**\n",
    "\n",
    ">`P08107 -> P0DMV8,P0DMV9`\n",
    "- map only to **`P0DMV8`**\n",
    "\n",
    ">`Q6NXR2 -> P0CL83,P0CL85`\n",
    "- map only to **`P0CL83`**"
   ]
  },
  {
   "cell_type": "markdown",
   "metadata": {},
   "source": [
    "## Step 2: Filter interactions and obtain sequences\n",
    "\n",
    "Filter PHISTO interactions by the available (filtered) results of Uniprot ID mapping and obtain sequences for Pfam profile scan"
   ]
  },
  {
   "cell_type": "code",
   "execution_count": 5,
   "metadata": {},
   "outputs": [
    {
     "name": "stdout",
     "output_type": "stream",
     "text": [
      "Obtained 6008 proteins from Uniprot ID mapping\n",
      "\n"
     ]
    },
    {
     "data": {
      "text/html": [
       "<div>\n",
       "<style scoped>\n",
       "    .dataframe tbody tr th:only-of-type {\n",
       "        vertical-align: middle;\n",
       "    }\n",
       "\n",
       "    .dataframe tbody tr th {\n",
       "        vertical-align: top;\n",
       "    }\n",
       "\n",
       "    .dataframe thead th {\n",
       "        text-align: right;\n",
       "    }\n",
       "</style>\n",
       "<table border=\"1\" class=\"dataframe\">\n",
       "  <thead>\n",
       "    <tr style=\"text-align: right;\">\n",
       "      <th></th>\n",
       "      <th>Query</th>\n",
       "      <th>Entry</th>\n",
       "    </tr>\n",
       "  </thead>\n",
       "  <tbody>\n",
       "    <tr>\n",
       "      <th>0</th>\n",
       "      <td>O75575</td>\n",
       "      <td>O75575</td>\n",
       "    </tr>\n",
       "    <tr>\n",
       "      <th>1</th>\n",
       "      <td>Q96AT9</td>\n",
       "      <td>Q96AT9</td>\n",
       "    </tr>\n",
       "    <tr>\n",
       "      <th>2</th>\n",
       "      <td>P52434</td>\n",
       "      <td>P52434</td>\n",
       "    </tr>\n",
       "    <tr>\n",
       "      <th>3</th>\n",
       "      <td>Q6ZNA4</td>\n",
       "      <td>Q6ZNA4</td>\n",
       "    </tr>\n",
       "    <tr>\n",
       "      <th>4</th>\n",
       "      <td>P61587</td>\n",
       "      <td>P61587</td>\n",
       "    </tr>\n",
       "  </tbody>\n",
       "</table>\n",
       "</div>"
      ],
      "text/plain": [
       "    Query   Entry\n",
       "0  O75575  O75575\n",
       "1  Q96AT9  Q96AT9\n",
       "2  P52434  P52434\n",
       "3  Q6ZNA4  Q6ZNA4\n",
       "4  P61587  P61587"
      ]
     },
     "execution_count": 5,
     "metadata": {},
     "output_type": "execute_result"
    }
   ],
   "source": [
    "# Load mapping results\n",
    "# Select only relevant columns: Query and Entry\n",
    "f_in = os.path.join(dir_in, 'uniprot_mapping.tab')\n",
    "\n",
    "df_map = pd.read_csv(f_in, sep='\\t')[['Query', 'Entry']]\n",
    "\n",
    "print('Obtained %i proteins from Uniprot ID mapping\\n' % len(df_map))\n",
    "df_map.head()"
   ]
  },
  {
   "cell_type": "code",
   "execution_count": 6,
   "metadata": {},
   "outputs": [
    {
     "name": "stdout",
     "output_type": "stream",
     "text": [
      "Bacillus anthracis:\n",
      "3054 interactions involving 930 pathogen proteins and 1696 human proteins\n",
      "\n",
      "Francisella tularensis SUBSPECIES TULARENSIS SCHU S4:\n",
      "1342 interactions involving 342 pathogen proteins and 992 human proteins\n",
      "\n",
      "Yersinia pestis:\n",
      "4081 interactions involving 1217 pathogen proteins and 2143 human proteins\n",
      "\n",
      "TOTAL:\n",
      "8477 interactions involving 2489 pathogen proteins and 3509 human proteins\n",
      "\n"
     ]
    },
    {
     "data": {
      "text/html": [
       "<div>\n",
       "<style scoped>\n",
       "    .dataframe tbody tr th:only-of-type {\n",
       "        vertical-align: middle;\n",
       "    }\n",
       "\n",
       "    .dataframe tbody tr th {\n",
       "        vertical-align: top;\n",
       "    }\n",
       "\n",
       "    .dataframe thead th {\n",
       "        text-align: right;\n",
       "    }\n",
       "</style>\n",
       "<table border=\"1\" class=\"dataframe\">\n",
       "  <thead>\n",
       "    <tr style=\"text-align: right;\">\n",
       "      <th></th>\n",
       "      <th>Pathogen</th>\n",
       "      <th>Pathogen_Uniprot_ID</th>\n",
       "      <th>Human_Uniprot_ID</th>\n",
       "    </tr>\n",
       "  </thead>\n",
       "  <tbody>\n",
       "    <tr>\n",
       "      <th>0</th>\n",
       "      <td>Yersinia pestis</td>\n",
       "      <td>Q9RI12</td>\n",
       "      <td>Q96FW1</td>\n",
       "    </tr>\n",
       "    <tr>\n",
       "      <th>2</th>\n",
       "      <td>Yersinia pestis</td>\n",
       "      <td>Q7ARN6</td>\n",
       "      <td>P63000</td>\n",
       "    </tr>\n",
       "    <tr>\n",
       "      <th>3</th>\n",
       "      <td>Yersinia pestis</td>\n",
       "      <td>Q74YG7</td>\n",
       "      <td>Q9HD26</td>\n",
       "    </tr>\n",
       "    <tr>\n",
       "      <th>4</th>\n",
       "      <td>Yersinia pestis</td>\n",
       "      <td>Q8D0Q9</td>\n",
       "      <td>O43491</td>\n",
       "    </tr>\n",
       "    <tr>\n",
       "      <th>5</th>\n",
       "      <td>Yersinia pestis</td>\n",
       "      <td>Q0WAP0</td>\n",
       "      <td>Q9P0K7</td>\n",
       "    </tr>\n",
       "  </tbody>\n",
       "</table>\n",
       "</div>"
      ],
      "text/plain": [
       "          Pathogen Pathogen_Uniprot_ID Human_Uniprot_ID\n",
       "0  Yersinia pestis              Q9RI12           Q96FW1\n",
       "2  Yersinia pestis              Q7ARN6           P63000\n",
       "3  Yersinia pestis              Q74YG7           Q9HD26\n",
       "4  Yersinia pestis              Q8D0Q9           O43491\n",
       "5  Yersinia pestis              Q0WAP0           Q9P0K7"
      ]
     },
     "execution_count": 6,
     "metadata": {},
     "output_type": "execute_result"
    }
   ],
   "source": [
    "# Filter PHISTO DataFrame by available IDs in Query\n",
    "prot_filter = df.drop('Pathogen', axis=1).isin(df_map.Query.tolist()) # check each protein in PHISTO DataFrame\n",
    "rowfilter = prot_filter.all(axis=1) # check rows which both interactors are in query\n",
    "df = df[rowfilter]\n",
    "\n",
    "#Replace Uniprot IDs in PHISTO DataFrame with the ones in Entry\n",
    "df.replace(df_map.Query, df_map.Entry, inplace=True)\n",
    "\n",
    "print_status(df)\n",
    "df.head()"
   ]
  },
  {
   "cell_type": "code",
   "execution_count": null,
   "metadata": {},
   "outputs": [],
   "source": []
  }
 ],
 "metadata": {
  "kernelspec": {
   "display_name": "Python 3",
   "language": "python",
   "name": "python3"
  },
  "language_info": {
   "codemirror_mode": {
    "name": "ipython",
    "version": 3
   },
   "file_extension": ".py",
   "mimetype": "text/x-python",
   "name": "python",
   "nbconvert_exporter": "python",
   "pygments_lexer": "ipython3",
   "version": "3.6.5"
  }
 },
 "nbformat": 4,
 "nbformat_minor": 2
}
