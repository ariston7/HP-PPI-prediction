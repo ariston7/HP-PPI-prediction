{
 "cells": [
  {
   "cell_type": "markdown",
   "metadata": {},
   "source": [
    "# DeNovo Negative Dataset Sampling for HP-PPI\n",
    "\n",
    "Dissimilarity-based negative sampling for non-interacting protein pairs\n",
    "\n",
    "Reference:\n",
    "\n",
    ">Eid, F. E., Elhefnawi, M., & Heath, L. S. (2016). DeNovo: Virus-host sequence-based protein-protein interaction prediction. *Bioinformatics*, **32**(8), 1144–1150. https://doi.org/10.1093/bioinformatics/btv737"
   ]
  },
  {
   "cell_type": "code",
   "execution_count": 7,
   "metadata": {},
   "outputs": [],
   "source": [
    "import os\n",
    "\n",
    "import itertools\n",
    "import pandas as pd\n",
    "from time import time\n",
    "from multiprocessing import Pool\n",
    "\n",
    "from Bio import SeqIO\n",
    "from Bio.Align import PairwiseAligner"
   ]
  },
  {
   "cell_type": "code",
   "execution_count": 3,
   "metadata": {},
   "outputs": [],
   "source": [
    "parent_dir = os.path.dirname(os.getcwd())\n",
    "dir_in = dir_out = os.path.join(parent_dir, 'data')"
   ]
  },
  {
   "cell_type": "code",
   "execution_count": 17,
   "metadata": {},
   "outputs": [
    {
     "name": "stdout",
     "output_type": "stream",
     "text": [
      "2284 pathogen proteins for alignment\n"
     ]
    }
   ],
   "source": [
    "# Read positive dataset\n",
    "f_in = os.path.join(dir_in, 'positive_pairs.tsv')\n",
    "df_pos = pd.read_csv(f_in, sep='\\t')\n",
    "\n",
    "# Get pathogen protein IDs for alignment\n",
    "prot_IDs = set(df_pos.Pathogen_Uniprot_ID)\n",
    "print('Obtained %i pathogen proteins for alignment' % len(prot_IDs))"
   ]
  },
  {
   "cell_type": "code",
   "execution_count": 18,
   "metadata": {},
   "outputs": [
    {
     "name": "stdout",
     "output_type": "stream",
     "text": [
      "Obtained 2284 pathogen protein sequences\n"
     ]
    }
   ],
   "source": [
    "# Extract pathogen protein sequences\n",
    "f_in = os.path.join(dir_in, 'uniprot_sequences.fasta')\n",
    "seqdict = {} # store sequences in a dict\n",
    "\n",
    "for record in SeqIO.parse(f_in, 'fasta'):\n",
    "    prot_id = record.id.split('|')[1]\n",
    "    \n",
    "    # Check if record is in the pathogen IDs\n",
    "    if prot_id in prot_IDs:\n",
    "        seqdict[prot_id] = record.seq\n",
    "\n",
    "print('Obtained %i pathogen protein sequences' % len(seqdict))"
   ]
  },
  {
   "cell_type": "code",
   "execution_count": null,
   "metadata": {},
   "outputs": [],
   "source": []
  }
 ],
 "metadata": {
  "kernelspec": {
   "display_name": "Python 3",
   "language": "python",
   "name": "python3"
  },
  "language_info": {
   "codemirror_mode": {
    "name": "ipython",
    "version": 3
   },
   "file_extension": ".py",
   "mimetype": "text/x-python",
   "name": "python",
   "nbconvert_exporter": "python",
   "pygments_lexer": "ipython3",
   "version": "3.6.5"
  }
 },
 "nbformat": 4,
 "nbformat_minor": 2
}
