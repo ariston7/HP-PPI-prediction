{
 "cells": [
  {
   "cell_type": "markdown",
   "metadata": {},
   "source": [
    "# DeNovo Negative Dataset Sampling for HP-PPI\n",
    "\n",
    "Dissimilarity-based negative sampling for non-interacting protein pairs\n",
    "\n",
    "Reference:\n",
    "\n",
    ">Eid, F. E., Elhefnawi, M., & Heath, L. S. (2016). DeNovo: Virus-host sequence-based protein-protein interaction prediction. *Bioinformatics*, **32**(8), 1144–1150. https://doi.org/10.1093/bioinformatics/btv737"
   ]
  },
  {
   "cell_type": "code",
   "execution_count": 22,
   "metadata": {},
   "outputs": [],
   "source": [
    "import os\n",
    "\n",
    "import itertools\n",
    "import pandas as pd\n",
    "from time import time\n",
    "from multiprocessing import Pool\n",
    "\n",
    "from Bio import SeqIO\n",
    "from Bio.Align import PairwiseAligner\n",
    "from Bio.SubsMat.MatrixInfo import blosum30"
   ]
  },
  {
   "cell_type": "code",
   "execution_count": 3,
   "metadata": {},
   "outputs": [],
   "source": [
    "parent_dir = os.path.dirname(os.getcwd())\n",
    "dir_in = dir_out = os.path.join(parent_dir, 'data')"
   ]
  },
  {
   "cell_type": "markdown",
   "metadata": {},
   "source": [
    "## Set up the sequences of pathogen proteins"
   ]
  },
  {
   "cell_type": "code",
   "execution_count": 17,
   "metadata": {},
   "outputs": [
    {
     "name": "stdout",
     "output_type": "stream",
     "text": [
      "2284 pathogen proteins for alignment\n"
     ]
    }
   ],
   "source": [
    "# Read positive dataset\n",
    "f_in = os.path.join(dir_in, 'positive_pairs.tsv')\n",
    "df_pos = pd.read_csv(f_in, sep='\\t')\n",
    "\n",
    "# Get pathogen protein IDs for alignment\n",
    "prot_IDs = set(df_pos.Pathogen_Uniprot_ID)\n",
    "print('Obtained %i pathogen proteins for alignment' % len(prot_IDs))"
   ]
  },
  {
   "cell_type": "code",
   "execution_count": 18,
   "metadata": {},
   "outputs": [
    {
     "name": "stdout",
     "output_type": "stream",
     "text": [
      "Obtained 2284 pathogen protein sequences\n"
     ]
    }
   ],
   "source": [
    "# Extract pathogen protein sequences\n",
    "f_in = os.path.join(dir_in, 'uniprot_sequences.fasta')\n",
    "seqdict = {} # store sequences in a dict\n",
    "\n",
    "for record in SeqIO.parse(f_in, 'fasta'):\n",
    "    prot_id = record.id.split('|')[1]\n",
    "    \n",
    "    # Check if record is in the pathogen IDs\n",
    "    if prot_id in prot_IDs:\n",
    "        seqdict[prot_id] = record.seq\n",
    "\n",
    "print('Obtained %i pathogen protein sequences' % len(seqdict))"
   ]
  },
  {
   "cell_type": "markdown",
   "metadata": {},
   "source": [
    "## All-vs-all global alignment of pathogen proteins"
   ]
  },
  {
   "cell_type": "code",
   "execution_count": 23,
   "metadata": {},
   "outputs": [
    {
     "data": {
      "text/plain": [
       "'Needleman-Wunsch'"
      ]
     },
     "execution_count": 23,
     "metadata": {},
     "output_type": "execute_result"
    }
   ],
   "source": [
    "# Set up aligner\n",
    "aligner = PairwiseAligner()\n",
    "\n",
    "# Gap scoring: linear, 8 (as in MATLAB, which is the platform used by Eid et al., 2016)\n",
    "# Matrix: BLOSUM30 to capture distant relationships\n",
    "\n",
    "aligner.gap_score = -8\n",
    "aligner.substitution_matrix = blosum30\n",
    "aligner.algorithm"
   ]
  },
  {
   "cell_type": "code",
   "execution_count": 26,
   "metadata": {},
   "outputs": [
    {
     "name": "stdout",
     "output_type": "stream",
     "text": [
      "Generated 2609470 pairs for alignment\n"
     ]
    }
   ],
   "source": [
    "# Generate pairs of proteins to be aligned\n",
    "pairs = [pair for pair in itertools.combinations_with_replacement(prot_IDs, 2)]\n",
    "print('Generated %i pairs for alignment' % len(pairs))"
   ]
  },
  {
   "cell_type": "code",
   "execution_count": 25,
   "metadata": {},
   "outputs": [
    {
     "data": {
      "text/plain": [
       "(2284, 2284)"
      ]
     },
     "execution_count": 25,
     "metadata": {},
     "output_type": "execute_result"
    },
    {
     "data": {
      "text/html": [
       "<div>\n",
       "<style scoped>\n",
       "    .dataframe tbody tr th:only-of-type {\n",
       "        vertical-align: middle;\n",
       "    }\n",
       "\n",
       "    .dataframe tbody tr th {\n",
       "        vertical-align: top;\n",
       "    }\n",
       "\n",
       "    .dataframe thead th {\n",
       "        text-align: right;\n",
       "    }\n",
       "</style>\n",
       "<table border=\"1\" class=\"dataframe\">\n",
       "  <thead>\n",
       "    <tr style=\"text-align: right;\">\n",
       "      <th></th>\n",
       "      <th>A0A1S0QRP5</th>\n",
       "      <th>A0A0H2W3C2</th>\n",
       "      <th>A0A384LGY9</th>\n",
       "      <th>Q81NB9</th>\n",
       "      <th>Q81T40</th>\n",
       "      <th>Q5NF53</th>\n",
       "      <th>Q5NHN5</th>\n",
       "      <th>Q8CZZ5</th>\n",
       "      <th>Q5NEX3</th>\n",
       "      <th>A0A0F7RM31</th>\n",
       "      <th>...</th>\n",
       "      <th>A0A0H2W3Z6</th>\n",
       "      <th>A0A0J1HQ93</th>\n",
       "      <th>Q81VM2</th>\n",
       "      <th>Q8ZC08</th>\n",
       "      <th>A0A384KZU6</th>\n",
       "      <th>Q5NHQ1</th>\n",
       "      <th>Q5NIN9</th>\n",
       "      <th>A0A1J9X5U0</th>\n",
       "      <th>Q0WK16</th>\n",
       "      <th>A0A1J9WLY8</th>\n",
       "    </tr>\n",
       "  </thead>\n",
       "  <tbody>\n",
       "    <tr>\n",
       "      <th>A0A1S0QRP5</th>\n",
       "      <td>0.0</td>\n",
       "      <td>0.0</td>\n",
       "      <td>0.0</td>\n",
       "      <td>0.0</td>\n",
       "      <td>0.0</td>\n",
       "      <td>0.0</td>\n",
       "      <td>0.0</td>\n",
       "      <td>0.0</td>\n",
       "      <td>0.0</td>\n",
       "      <td>0.0</td>\n",
       "      <td>...</td>\n",
       "      <td>0.0</td>\n",
       "      <td>0.0</td>\n",
       "      <td>0.0</td>\n",
       "      <td>0.0</td>\n",
       "      <td>0.0</td>\n",
       "      <td>0.0</td>\n",
       "      <td>0.0</td>\n",
       "      <td>0.0</td>\n",
       "      <td>0.0</td>\n",
       "      <td>0.0</td>\n",
       "    </tr>\n",
       "    <tr>\n",
       "      <th>A0A0H2W3C2</th>\n",
       "      <td>0.0</td>\n",
       "      <td>0.0</td>\n",
       "      <td>0.0</td>\n",
       "      <td>0.0</td>\n",
       "      <td>0.0</td>\n",
       "      <td>0.0</td>\n",
       "      <td>0.0</td>\n",
       "      <td>0.0</td>\n",
       "      <td>0.0</td>\n",
       "      <td>0.0</td>\n",
       "      <td>...</td>\n",
       "      <td>0.0</td>\n",
       "      <td>0.0</td>\n",
       "      <td>0.0</td>\n",
       "      <td>0.0</td>\n",
       "      <td>0.0</td>\n",
       "      <td>0.0</td>\n",
       "      <td>0.0</td>\n",
       "      <td>0.0</td>\n",
       "      <td>0.0</td>\n",
       "      <td>0.0</td>\n",
       "    </tr>\n",
       "    <tr>\n",
       "      <th>A0A384LGY9</th>\n",
       "      <td>0.0</td>\n",
       "      <td>0.0</td>\n",
       "      <td>0.0</td>\n",
       "      <td>0.0</td>\n",
       "      <td>0.0</td>\n",
       "      <td>0.0</td>\n",
       "      <td>0.0</td>\n",
       "      <td>0.0</td>\n",
       "      <td>0.0</td>\n",
       "      <td>0.0</td>\n",
       "      <td>...</td>\n",
       "      <td>0.0</td>\n",
       "      <td>0.0</td>\n",
       "      <td>0.0</td>\n",
       "      <td>0.0</td>\n",
       "      <td>0.0</td>\n",
       "      <td>0.0</td>\n",
       "      <td>0.0</td>\n",
       "      <td>0.0</td>\n",
       "      <td>0.0</td>\n",
       "      <td>0.0</td>\n",
       "    </tr>\n",
       "    <tr>\n",
       "      <th>Q81NB9</th>\n",
       "      <td>0.0</td>\n",
       "      <td>0.0</td>\n",
       "      <td>0.0</td>\n",
       "      <td>0.0</td>\n",
       "      <td>0.0</td>\n",
       "      <td>0.0</td>\n",
       "      <td>0.0</td>\n",
       "      <td>0.0</td>\n",
       "      <td>0.0</td>\n",
       "      <td>0.0</td>\n",
       "      <td>...</td>\n",
       "      <td>0.0</td>\n",
       "      <td>0.0</td>\n",
       "      <td>0.0</td>\n",
       "      <td>0.0</td>\n",
       "      <td>0.0</td>\n",
       "      <td>0.0</td>\n",
       "      <td>0.0</td>\n",
       "      <td>0.0</td>\n",
       "      <td>0.0</td>\n",
       "      <td>0.0</td>\n",
       "    </tr>\n",
       "    <tr>\n",
       "      <th>Q81T40</th>\n",
       "      <td>0.0</td>\n",
       "      <td>0.0</td>\n",
       "      <td>0.0</td>\n",
       "      <td>0.0</td>\n",
       "      <td>0.0</td>\n",
       "      <td>0.0</td>\n",
       "      <td>0.0</td>\n",
       "      <td>0.0</td>\n",
       "      <td>0.0</td>\n",
       "      <td>0.0</td>\n",
       "      <td>...</td>\n",
       "      <td>0.0</td>\n",
       "      <td>0.0</td>\n",
       "      <td>0.0</td>\n",
       "      <td>0.0</td>\n",
       "      <td>0.0</td>\n",
       "      <td>0.0</td>\n",
       "      <td>0.0</td>\n",
       "      <td>0.0</td>\n",
       "      <td>0.0</td>\n",
       "      <td>0.0</td>\n",
       "    </tr>\n",
       "  </tbody>\n",
       "</table>\n",
       "<p>5 rows × 2284 columns</p>\n",
       "</div>"
      ],
      "text/plain": [
       "            A0A1S0QRP5  A0A0H2W3C2  A0A384LGY9  Q81NB9  Q81T40  Q5NF53  \\\n",
       "A0A1S0QRP5         0.0         0.0         0.0     0.0     0.0     0.0   \n",
       "A0A0H2W3C2         0.0         0.0         0.0     0.0     0.0     0.0   \n",
       "A0A384LGY9         0.0         0.0         0.0     0.0     0.0     0.0   \n",
       "Q81NB9             0.0         0.0         0.0     0.0     0.0     0.0   \n",
       "Q81T40             0.0         0.0         0.0     0.0     0.0     0.0   \n",
       "\n",
       "            Q5NHN5  Q8CZZ5  Q5NEX3  A0A0F7RM31     ...      A0A0H2W3Z6  \\\n",
       "A0A1S0QRP5     0.0     0.0     0.0         0.0     ...             0.0   \n",
       "A0A0H2W3C2     0.0     0.0     0.0         0.0     ...             0.0   \n",
       "A0A384LGY9     0.0     0.0     0.0         0.0     ...             0.0   \n",
       "Q81NB9         0.0     0.0     0.0         0.0     ...             0.0   \n",
       "Q81T40         0.0     0.0     0.0         0.0     ...             0.0   \n",
       "\n",
       "            A0A0J1HQ93  Q81VM2  Q8ZC08  A0A384KZU6  Q5NHQ1  Q5NIN9  \\\n",
       "A0A1S0QRP5         0.0     0.0     0.0         0.0     0.0     0.0   \n",
       "A0A0H2W3C2         0.0     0.0     0.0         0.0     0.0     0.0   \n",
       "A0A384LGY9         0.0     0.0     0.0         0.0     0.0     0.0   \n",
       "Q81NB9             0.0     0.0     0.0         0.0     0.0     0.0   \n",
       "Q81T40             0.0     0.0     0.0         0.0     0.0     0.0   \n",
       "\n",
       "            A0A1J9X5U0  Q0WK16  A0A1J9WLY8  \n",
       "A0A1S0QRP5         0.0     0.0         0.0  \n",
       "A0A0H2W3C2         0.0     0.0         0.0  \n",
       "A0A384LGY9         0.0     0.0         0.0  \n",
       "Q81NB9             0.0     0.0         0.0  \n",
       "Q81T40             0.0     0.0         0.0  \n",
       "\n",
       "[5 rows x 2284 columns]"
      ]
     },
     "execution_count": 25,
     "metadata": {},
     "output_type": "execute_result"
    }
   ],
   "source": [
    "# Initialize zeros DataFrame for storing alignment scores\n",
    "scores = pd.DataFrame(0., index=prot_IDs, columns=prot_IDs)\n",
    "\n",
    "scores.shape\n",
    "scores.head()"
   ]
  },
  {
   "cell_type": "code",
   "execution_count": null,
   "metadata": {},
   "outputs": [],
   "source": [
    "# Function to get the alignment score\n",
    "def get_alignment_score(pair):\n",
    "    aligner.score(*map(seqdict.get, x))\n",
    "    \n",
    "    # Return both proteins along with the alignment score\n",
    "    return (*pair, score)"
   ]
  },
  {
   "cell_type": "code",
   "execution_count": null,
   "metadata": {},
   "outputs": [],
   "source": [
    "# Perform alignments with parallelization\n",
    "with Pool(4) as p:\n",
    "    "
   ]
  }
 ],
 "metadata": {
  "kernelspec": {
   "display_name": "Python 3",
   "language": "python",
   "name": "python3"
  },
  "language_info": {
   "codemirror_mode": {
    "name": "ipython",
    "version": 3
   },
   "file_extension": ".py",
   "mimetype": "text/x-python",
   "name": "python",
   "nbconvert_exporter": "python",
   "pygments_lexer": "ipython3",
   "version": "3.6.5"
  }
 },
 "nbformat": 4,
 "nbformat_minor": 2
}
