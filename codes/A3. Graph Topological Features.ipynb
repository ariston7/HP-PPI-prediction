{
 "cells": [
  {
   "cell_type": "markdown",
   "metadata": {},
   "source": [
    "# Topological Features of Human PPI Network\n",
    "\n",
    "Source: http://hprd.org/RELEASE9/"
   ]
  },
  {
   "cell_type": "code",
   "execution_count": 1,
   "metadata": {},
   "outputs": [],
   "source": [
    "import os\n",
    "\n",
    "import pandas as pd\n",
    "import numpy as np\n",
    "import networkx as nx"
   ]
  },
  {
   "cell_type": "code",
   "execution_count": 2,
   "metadata": {},
   "outputs": [],
   "source": [
    "# Set up directories\n",
    "parent_dir = os.path.dirname(os.getcwd())\n",
    "\n",
    "dir_in = os.path.join(parent_dir, 'data', 'HPRD')\n",
    "dir_out = os.path.join(parent_dir, 'data')"
   ]
  },
  {
   "cell_type": "markdown",
   "metadata": {},
   "source": [
    "## Preprocessing of HPRD data"
   ]
  },
  {
   "cell_type": "code",
   "execution_count": 3,
   "metadata": {},
   "outputs": [],
   "source": [
    "# Read human PPI binary interactions\n",
    "f_in = os.path.join(dir_in, 'BINARY_PROTEIN_PROTEIN_INTERACTIONS.txt')\n",
    "\n",
    "df = pd.read_csv(f_in, sep='\\t', header=None)[[1, 4]] # get only the HPRD IDs"
   ]
  },
  {
   "cell_type": "code",
   "execution_count": 4,
   "metadata": {},
   "outputs": [],
   "source": [
    "# Read ID mappings\n",
    "f_in = os.path.join(dir_in, 'HPRD_ID_MAPPINGS.txt')\n",
    "\n",
    "df_map = pd.read_csv(f_in, sep='\\t', header=None)[[0, 6]] # get HPRD and SwissProt columns\n",
    "map_dict = {hprd: uniprot for hprd, uniprot in df_map.values}\n",
    "\n",
    "# Replace HPRD IDs with Uniprot IDs\n",
    "## Note: entries with multiple Uniprot IDs are left as they are\n",
    "df.replace(map_dict, inplace=True)\n",
    "df.columns = ['UniprotID_1', 'UniprotID_2']"
   ]
  },
  {
   "cell_type": "code",
   "execution_count": 5,
   "metadata": {},
   "outputs": [
    {
     "name": "stdout",
     "output_type": "stream",
     "text": [
      "Removed 121 interactions with no available Uniprot IDs\n"
     ]
    },
    {
     "data": {
      "text/html": [
       "<div>\n",
       "<style scoped>\n",
       "    .dataframe tbody tr th:only-of-type {\n",
       "        vertical-align: middle;\n",
       "    }\n",
       "\n",
       "    .dataframe tbody tr th {\n",
       "        vertical-align: top;\n",
       "    }\n",
       "\n",
       "    .dataframe thead th {\n",
       "        text-align: right;\n",
       "    }\n",
       "</style>\n",
       "<table border=\"1\" class=\"dataframe\">\n",
       "  <thead>\n",
       "    <tr style=\"text-align: right;\">\n",
       "      <th></th>\n",
       "      <th>UniprotID_1</th>\n",
       "      <th>UniprotID_2</th>\n",
       "    </tr>\n",
       "  </thead>\n",
       "  <tbody>\n",
       "    <tr>\n",
       "      <th>0</th>\n",
       "      <td>P00352</td>\n",
       "      <td>P00352</td>\n",
       "    </tr>\n",
       "    <tr>\n",
       "      <th>1</th>\n",
       "      <td>B4E3U0,Q13683,Q4LE35</td>\n",
       "      <td>P02708,Q53SH4</td>\n",
       "    </tr>\n",
       "    <tr>\n",
       "      <th>2</th>\n",
       "      <td>Q9ULJ8,A1L494,B7ZLX4</td>\n",
       "      <td>P63261</td>\n",
       "    </tr>\n",
       "    <tr>\n",
       "      <th>3</th>\n",
       "      <td>P10124</td>\n",
       "      <td>P16070,O95370</td>\n",
       "    </tr>\n",
       "    <tr>\n",
       "      <th>4</th>\n",
       "      <td>Q14451,Q53YD3</td>\n",
       "      <td>P04626</td>\n",
       "    </tr>\n",
       "  </tbody>\n",
       "</table>\n",
       "</div>"
      ],
      "text/plain": [
       "            UniprotID_1    UniprotID_2\n",
       "0                P00352         P00352\n",
       "1  B4E3U0,Q13683,Q4LE35  P02708,Q53SH4\n",
       "2  Q9ULJ8,A1L494,B7ZLX4         P63261\n",
       "3                P10124  P16070,O95370\n",
       "4         Q14451,Q53YD3         P04626"
      ]
     },
     "execution_count": 5,
     "metadata": {},
     "output_type": "execute_result"
    }
   ],
   "source": [
    "# Filter out interactions with unavailable Uniprot IDs \n",
    "n = len(df)\n",
    "df = df[~(df=='-').any(axis=1)]\n",
    "print('Removed %i interactions with no available Uniprot IDs' % (n - len(df)))\n",
    "\n",
    "df.head()"
   ]
  },
  {
   "cell_type": "markdown",
   "metadata": {},
   "source": [
    "## Calculation of Human Interactome graph properties\n",
    "\n",
    "Graph topological properties:\n",
    "- Degree centrality\n",
    "- Betweenness centrality\n",
    "- Clustering coefficient"
   ]
  },
  {
   "cell_type": "code",
   "execution_count": 6,
   "metadata": {},
   "outputs": [
    {
     "name": "stdout",
     "output_type": "stream",
     "text": [
      "Human PPI network summary:\n",
      "9588 proteins and 39046 interactions\n"
     ]
    }
   ],
   "source": [
    "# Create graph from DataFrame\n",
    "G = nx.Graph(df.values.tolist())\n",
    "print('Human PPI network summary:\\n%i proteins and %i interactions'\\\n",
    "      % (len(G.nodes), len(G.edges)))"
   ]
  },
  {
   "cell_type": "code",
   "execution_count": 7,
   "metadata": {},
   "outputs": [
    {
     "name": "stdout",
     "output_type": "stream",
     "text": [
      "Eigenvector centrality calculations complete\n",
      "Degree centrality calculations complete\n",
      "Clustering coefficient calculations complete\n",
      "Betweenness centrality calculations complete\n"
     ]
    },
    {
     "data": {
      "text/html": [
       "<div>\n",
       "<style scoped>\n",
       "    .dataframe tbody tr th:only-of-type {\n",
       "        vertical-align: middle;\n",
       "    }\n",
       "\n",
       "    .dataframe tbody tr th {\n",
       "        vertical-align: top;\n",
       "    }\n",
       "\n",
       "    .dataframe thead th {\n",
       "        text-align: right;\n",
       "    }\n",
       "</style>\n",
       "<table border=\"1\" class=\"dataframe\">\n",
       "  <thead>\n",
       "    <tr style=\"text-align: right;\">\n",
       "      <th></th>\n",
       "      <th>Eigenvector_centrality</th>\n",
       "      <th>Degree_centrality</th>\n",
       "      <th>Clustering_coefficient</th>\n",
       "      <th>Betweenness_centrality</th>\n",
       "    </tr>\n",
       "  </thead>\n",
       "  <tbody>\n",
       "    <tr>\n",
       "      <th>P00352</th>\n",
       "      <td>2.207378e-32</td>\n",
       "      <td>0.000209</td>\n",
       "      <td>0.000000</td>\n",
       "      <td>0.000000</td>\n",
       "    </tr>\n",
       "    <tr>\n",
       "      <th>B4E3U0,Q13683,Q4LE35</th>\n",
       "      <td>1.048165e-03</td>\n",
       "      <td>0.000626</td>\n",
       "      <td>0.166667</td>\n",
       "      <td>0.000298</td>\n",
       "    </tr>\n",
       "    <tr>\n",
       "      <th>P02708,Q53SH4</th>\n",
       "      <td>1.204406e-04</td>\n",
       "      <td>0.000417</td>\n",
       "      <td>0.000000</td>\n",
       "      <td>0.000401</td>\n",
       "    </tr>\n",
       "    <tr>\n",
       "      <th>Q9ULJ8,A1L494,B7ZLX4</th>\n",
       "      <td>1.922150e-03</td>\n",
       "      <td>0.000939</td>\n",
       "      <td>0.238095</td>\n",
       "      <td>0.000038</td>\n",
       "    </tr>\n",
       "    <tr>\n",
       "      <th>P63261</th>\n",
       "      <td>6.808116e-03</td>\n",
       "      <td>0.004381</td>\n",
       "      <td>0.025641</td>\n",
       "      <td>0.002309</td>\n",
       "    </tr>\n",
       "  </tbody>\n",
       "</table>\n",
       "</div>"
      ],
      "text/plain": [
       "                      Eigenvector_centrality  Degree_centrality  \\\n",
       "P00352                          2.207378e-32           0.000209   \n",
       "B4E3U0,Q13683,Q4LE35            1.048165e-03           0.000626   \n",
       "P02708,Q53SH4                   1.204406e-04           0.000417   \n",
       "Q9ULJ8,A1L494,B7ZLX4            1.922150e-03           0.000939   \n",
       "P63261                          6.808116e-03           0.004381   \n",
       "\n",
       "                      Clustering_coefficient  Betweenness_centrality  \n",
       "P00352                              0.000000                0.000000  \n",
       "B4E3U0,Q13683,Q4LE35                0.166667                0.000298  \n",
       "P02708,Q53SH4                       0.000000                0.000401  \n",
       "Q9ULJ8,A1L494,B7ZLX4                0.238095                0.000038  \n",
       "P63261                              0.025641                0.002309  "
      ]
     },
     "execution_count": 7,
     "metadata": {},
     "output_type": "execute_result"
    }
   ],
   "source": [
    "# Compute topological properties\n",
    "graph_props = {\n",
    "    'Eigenvector_centrality': nx.eigenvector_centrality,\n",
    "    'Degree_centrality': nx.degree_centrality,\n",
    "    'Clustering_coefficient': nx.clustering,\n",
    "    'Betweenness_centrality': nx.betweenness_centrality\n",
    "}\n",
    "\n",
    "df = pd.DataFrame([], index=G.nodes)\n",
    "\n",
    "# Add computed properties to DataFrame\n",
    "for prop, func in graph_props.items():\n",
    "    df[prop] = pd.Series(func(G))\n",
    "    print('%s %s calculations complete' % tuple(prop.split('_')))\n",
    "\n",
    "df.head()"
   ]
  },
  {
   "cell_type": "code",
   "execution_count": 8,
   "metadata": {},
   "outputs": [],
   "source": [
    "# Save the results into a file\n",
    "f_out = os.path.join(dir_out, 'human_ppi_topology.tsv')\n",
    "df.to_csv(f_out, sep='\\t')"
   ]
  }
 ],
 "metadata": {
  "kernelspec": {
   "display_name": "Python 3",
   "language": "python",
   "name": "python3"
  },
  "language_info": {
   "codemirror_mode": {
    "name": "ipython",
    "version": 3
   },
   "file_extension": ".py",
   "mimetype": "text/x-python",
   "name": "python",
   "nbconvert_exporter": "python",
   "pygments_lexer": "ipython3",
   "version": "3.6.5"
  }
 },
 "nbformat": 4,
 "nbformat_minor": 2
}
