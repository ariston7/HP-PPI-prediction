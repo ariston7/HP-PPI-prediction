{
 "cells": [
  {
   "cell_type": "markdown",
   "metadata": {},
   "source": [
    "# 6. Analysis of the Predicted HP-PPI Network\n",
    "\n",
    "Network analysis on the human-*Streptococcus pneumoniae* strain D39 protein-protein interaction network with NetworkX module"
   ]
  },
  {
   "cell_type": "code",
   "execution_count": 1,
   "metadata": {},
   "outputs": [],
   "source": [
    "import os\n",
    "import joblib\n",
    "\n",
    "import pandas as pd\n",
    "import numpy as np\n",
    "import matplotlib.pyplot as plt\n",
    "\n",
    "import networkx as nx\n",
    "from networkx.algorithms import bipartite\n",
    "from pyvis.network import Network"
   ]
  },
  {
   "cell_type": "code",
   "execution_count": 2,
   "metadata": {},
   "outputs": [],
   "source": [
    "# Set up directories\n",
    "parent_dir = os.path.dirname(os.getcwd())\n",
    "dir_in = dir_out = os.path.join(parent_dir, 'analyses')"
   ]
  },
  {
   "cell_type": "code",
   "execution_count": 3,
   "metadata": {},
   "outputs": [
    {
     "name": "stdout",
     "output_type": "stream",
     "text": [
      "Loaded 5823 interactions involving 30 STRP2 proteins and 324 human proteins\n",
      "\n"
     ]
    },
    {
     "data": {
      "text/html": [
       "<div>\n",
       "<style scoped>\n",
       "    .dataframe tbody tr th:only-of-type {\n",
       "        vertical-align: middle;\n",
       "    }\n",
       "\n",
       "    .dataframe tbody tr th {\n",
       "        vertical-align: top;\n",
       "    }\n",
       "\n",
       "    .dataframe thead th {\n",
       "        text-align: right;\n",
       "    }\n",
       "</style>\n",
       "<table border=\"1\" class=\"dataframe\">\n",
       "  <thead>\n",
       "    <tr style=\"text-align: right;\">\n",
       "      <th></th>\n",
       "      <th>Pathogen_Protein</th>\n",
       "      <th>Human_Protein</th>\n",
       "    </tr>\n",
       "  </thead>\n",
       "  <tbody>\n",
       "    <tr>\n",
       "      <th>0</th>\n",
       "      <td>ENO_STRP2</td>\n",
       "      <td>FCAR_HUMAN</td>\n",
       "    </tr>\n",
       "    <tr>\n",
       "      <th>1</th>\n",
       "      <td>ENO_STRP2</td>\n",
       "      <td>FCG2B_HUMAN</td>\n",
       "    </tr>\n",
       "    <tr>\n",
       "      <th>2</th>\n",
       "      <td>ENO_STRP2</td>\n",
       "      <td>FCERG_HUMAN</td>\n",
       "    </tr>\n",
       "    <tr>\n",
       "      <th>3</th>\n",
       "      <td>ENO_STRP2</td>\n",
       "      <td>FCGRB_HUMAN</td>\n",
       "    </tr>\n",
       "    <tr>\n",
       "      <th>4</th>\n",
       "      <td>ENO_STRP2</td>\n",
       "      <td>CLUS_HUMAN</td>\n",
       "    </tr>\n",
       "  </tbody>\n",
       "</table>\n",
       "</div>"
      ],
      "text/plain": [
       "  Pathogen_Protein Human_Protein\n",
       "0        ENO_STRP2    FCAR_HUMAN\n",
       "1        ENO_STRP2   FCG2B_HUMAN\n",
       "2        ENO_STRP2   FCERG_HUMAN\n",
       "3        ENO_STRP2   FCGRB_HUMAN\n",
       "4        ENO_STRP2    CLUS_HUMAN"
      ]
     },
     "execution_count": 3,
     "metadata": {},
     "output_type": "execute_result"
    }
   ],
   "source": [
    "# Load predicted network as DataFrame\n",
    "f_in = os.path.join(dir_in, 'predicted_interactions.tsv')\n",
    "df = pd.read_csv(f_in, sep='\\t')\n",
    "\n",
    "# Get sets of unique proteins from each organism\n",
    "pathogen_proteins = list(set(df.Pathogen_Protein))\n",
    "human_proteins = list(set(df.Human_Protein))\n",
    "\n",
    "print('Loaded %i interactions involving %i STRP2 proteins and %i human proteins\\n'\\\n",
    "      % (len(df), len(pathogen_proteins), len(human_proteins)))\n",
    "df.head()"
   ]
  },
  {
   "cell_type": "code",
   "execution_count": 4,
   "metadata": {},
   "outputs": [
    {
     "data": {
      "text/plain": [
       "477"
      ]
     },
     "execution_count": 4,
     "metadata": {},
     "output_type": "execute_result"
    },
    {
     "data": {
      "text/plain": [
       "3725"
      ]
     },
     "execution_count": 4,
     "metadata": {},
     "output_type": "execute_result"
    }
   ],
   "source": [
    "# Save list of proteins\n",
    "for organism in ['Pathogen', 'Human']:\n",
    "    f_out = os.path.join(dir_out, 'protein_lists', '%s_protein_list' % organism)\n",
    "    protein_list = set(df['%s_Protein' % organism])\n",
    "    with open(f_out, 'w') as f:\n",
    "        f.write('\\n'.join(protein_list))"
   ]
  },
  {
   "cell_type": "markdown",
   "metadata": {},
   "source": [
    "## Create graph of protein interactions"
   ]
  },
  {
   "cell_type": "code",
   "execution_count": 5,
   "metadata": {},
   "outputs": [
    {
     "data": {
      "text/html": [
       "<div>\n",
       "<style scoped>\n",
       "    .dataframe tbody tr th:only-of-type {\n",
       "        vertical-align: middle;\n",
       "    }\n",
       "\n",
       "    .dataframe tbody tr th {\n",
       "        vertical-align: top;\n",
       "    }\n",
       "\n",
       "    .dataframe thead th {\n",
       "        text-align: right;\n",
       "    }\n",
       "</style>\n",
       "<table border=\"1\" class=\"dataframe\">\n",
       "  <thead>\n",
       "    <tr style=\"text-align: right;\">\n",
       "      <th></th>\n",
       "      <th>Pathogen_Protein</th>\n",
       "      <th>Human_Protein</th>\n",
       "    </tr>\n",
       "  </thead>\n",
       "  <tbody>\n",
       "    <tr>\n",
       "      <th>0</th>\n",
       "      <td>eno</td>\n",
       "      <td>FCAR</td>\n",
       "    </tr>\n",
       "    <tr>\n",
       "      <th>1</th>\n",
       "      <td>eno</td>\n",
       "      <td>FCGR2B</td>\n",
       "    </tr>\n",
       "    <tr>\n",
       "      <th>2</th>\n",
       "      <td>eno</td>\n",
       "      <td>FCER1G</td>\n",
       "    </tr>\n",
       "    <tr>\n",
       "      <th>3</th>\n",
       "      <td>eno</td>\n",
       "      <td>FCGR1B</td>\n",
       "    </tr>\n",
       "    <tr>\n",
       "      <th>4</th>\n",
       "      <td>eno</td>\n",
       "      <td>CLU</td>\n",
       "    </tr>\n",
       "  </tbody>\n",
       "</table>\n",
       "</div>"
      ],
      "text/plain": [
       "  Pathogen_Protein Human_Protein\n",
       "0              eno          FCAR\n",
       "1              eno        FCGR2B\n",
       "2              eno        FCER1G\n",
       "3              eno        FCGR1B\n",
       "4              eno           CLU"
      ]
     },
     "execution_count": 5,
     "metadata": {},
     "output_type": "execute_result"
    }
   ],
   "source": [
    "# Rename proteins by gene names\n",
    "for organism in ['strp2', 'human']:\n",
    "    f_in = os.path.join(dir_in, 'protein_lists', '%s_gene_mapping.tab' % organism)\n",
    "    \n",
    "    df_map = pd.read_csv(f_in, sep='\\t')\n",
    "    map_dict = {uniprot: gene for uniprot, gene in df_map.values}\n",
    "    df.replace(map_dict, inplace=True)\n",
    "\n",
    "df.head(5)"
   ]
  },
  {
   "cell_type": "code",
   "execution_count": 6,
   "metadata": {},
   "outputs": [],
   "source": [
    "# Initialize a bipartite graph \n",
    "pathogen_proteins = list(set(df.Pathogen_Protein))\n",
    "human_proteins = list(set(df.Human_Protein))\n",
    "B = nx.Graph()\n",
    "\n",
    "# Add proteins as nodes with a bipartite attribute\n",
    "B.add_nodes_from(pathogen_proteins, bipartite=0)\n",
    "B.add_nodes_from(human_proteins, bipartite=1)\n",
    "\n",
    "# Add interactions as edges between nodes\n",
    "B.add_edges_from(df.values)"
   ]
  },
  {
   "cell_type": "code",
   "execution_count": 7,
   "metadata": {},
   "outputs": [],
   "source": [
    "# Analyze topological properties\n",
    "properties = {\n",
    "    'Degree_centrality': bipartite.degree_centrality,\n",
    "    'Betweenness_centrality': bipartite.betweenness_centrality\n",
    "}\n",
    "\n",
    "# Create an empty DataFrame to store properties of pathogen proteins\n",
    "df = pd.DataFrame([], index=pathogen_proteins)\n",
    "\n",
    "for prop, func in properties.items():\n",
    "    props = func(B, nodes=pathogen_proteins)\n",
    "    df_prop = pd.DataFrame.from_dict(props, orient='index', columns=[prop])\n",
    "    \n",
    "    # Obtain only pathogen proteins\n",
    "    df_prop = df_prop[df_prop.index.isin(pathogen_proteins)]\n",
    "    \n",
    "    # Concatenate to the empty DataFrame\n",
    "    df = pd.concat([df, df_prop], axis=1, sort=False)"
   ]
  },
  {
   "cell_type": "code",
   "execution_count": 8,
   "metadata": {
    "scrolled": false
   },
   "outputs": [
    {
     "data": {
      "text/html": [
       "<div>\n",
       "<style scoped>\n",
       "    .dataframe tbody tr th:only-of-type {\n",
       "        vertical-align: middle;\n",
       "    }\n",
       "\n",
       "    .dataframe tbody tr th {\n",
       "        vertical-align: top;\n",
       "    }\n",
       "\n",
       "    .dataframe thead th {\n",
       "        text-align: right;\n",
       "    }\n",
       "</style>\n",
       "<table border=\"1\" class=\"dataframe\">\n",
       "  <thead>\n",
       "    <tr style=\"text-align: right;\">\n",
       "      <th></th>\n",
       "      <th>Degree_centrality</th>\n",
       "      <th>Betweenness_centrality</th>\n",
       "    </tr>\n",
       "    <tr>\n",
       "      <th>Pathogen_protein</th>\n",
       "      <th></th>\n",
       "      <th></th>\n",
       "    </tr>\n",
       "  </thead>\n",
       "  <tbody>\n",
       "    <tr>\n",
       "      <th>bgaA</th>\n",
       "      <td>1.000000</td>\n",
       "      <td>0.451853</td>\n",
       "    </tr>\n",
       "    <tr>\n",
       "      <th>SPD_0250</th>\n",
       "      <td>0.775316</td>\n",
       "      <td>0.081955</td>\n",
       "    </tr>\n",
       "    <tr>\n",
       "      <th>prtA</th>\n",
       "      <td>0.699367</td>\n",
       "      <td>0.029250</td>\n",
       "    </tr>\n",
       "    <tr>\n",
       "      <th>pcpA</th>\n",
       "      <td>0.693038</td>\n",
       "      <td>0.026479</td>\n",
       "    </tr>\n",
       "    <tr>\n",
       "      <th>pck</th>\n",
       "      <td>0.680380</td>\n",
       "      <td>0.022390</td>\n",
       "    </tr>\n",
       "    <tr>\n",
       "      <th>SPD_0537</th>\n",
       "      <td>0.670886</td>\n",
       "      <td>0.019983</td>\n",
       "    </tr>\n",
       "    <tr>\n",
       "      <th>eno</th>\n",
       "      <td>0.648734</td>\n",
       "      <td>0.015419</td>\n",
       "    </tr>\n",
       "    <tr>\n",
       "      <th>gatA</th>\n",
       "      <td>0.639241</td>\n",
       "      <td>0.013786</td>\n",
       "    </tr>\n",
       "    <tr>\n",
       "      <th>nanB</th>\n",
       "      <td>0.636076</td>\n",
       "      <td>0.013316</td>\n",
       "    </tr>\n",
       "    <tr>\n",
       "      <th>SPD_1321</th>\n",
       "      <td>0.636076</td>\n",
       "      <td>0.013316</td>\n",
       "    </tr>\n",
       "  </tbody>\n",
       "</table>\n",
       "</div>"
      ],
      "text/plain": [
       "                  Degree_centrality  Betweenness_centrality\n",
       "Pathogen_protein                                           \n",
       "bgaA                       1.000000                0.451853\n",
       "SPD_0250                   0.775316                0.081955\n",
       "prtA                       0.699367                0.029250\n",
       "pcpA                       0.693038                0.026479\n",
       "pck                        0.680380                0.022390\n",
       "SPD_0537                   0.670886                0.019983\n",
       "eno                        0.648734                0.015419\n",
       "gatA                       0.639241                0.013786\n",
       "nanB                       0.636076                0.013316\n",
       "SPD_1321                   0.636076                0.013316"
      ]
     },
     "execution_count": 8,
     "metadata": {},
     "output_type": "execute_result"
    }
   ],
   "source": [
    "# Examine top-scoring properties\n",
    "df.index.name = 'Pathogen_protein'\n",
    "df.sort_values(by='Degree_centrality', ascending=False, inplace=True)\n",
    "df[:10]"
   ]
  },
  {
   "cell_type": "code",
   "execution_count": 9,
   "metadata": {},
   "outputs": [],
   "source": [
    "# Save centralities\n",
    "f_out = os.path.join(dir_out, 'network_centrality')\n",
    "df.to_csv(f_out, sep='\\t')"
   ]
  },
  {
   "cell_type": "code",
   "execution_count": 10,
   "metadata": {},
   "outputs": [
    {
     "data": {
      "text/plain": [
       "'Complement and coagulation cascades'"
      ]
     },
     "execution_count": 10,
     "metadata": {},
     "output_type": "execute_result"
    }
   ],
   "source": [
    "# Get enriched human proteins\n",
    "f_in = os.path.join(dir_in, 'KEGG_analysis', 'KEGG_pathway.txt')\n",
    "\n",
    "df_kegg = pd.read_csv(f_in, sep='\\t')\n",
    "\n",
    "i = 0\n",
    "term = df_kegg.loc[i].Term.split(':')[1]\n",
    "term\n",
    "human_kegg = df_kegg.loc[i].Genes.split(', ')"
   ]
  },
  {
   "cell_type": "code",
   "execution_count": 11,
   "metadata": {},
   "outputs": [],
   "source": [
    "# Create subgraph\n",
    "m = len(human_kegg) # number of human proteins\n",
    "n = 10 # number of pathogen proteins\n",
    "pathogen_top10 = df.index[:n].tolist()\n",
    "\n",
    "subgraph = B.subgraph(pathogen_top10 + human_kegg)\n",
    "\n",
    "# Visualize the network\n",
    "net = Network()\n",
    "net.inherit_edge_colors_from(False)\n",
    "net.add_nodes(pathogen_top10, value=[10]*n, color=['blue']*n)\n",
    "net.add_nodes(human_kegg, value=[10]*m, color=['orange']*m)\n",
    "net.add_edges(subgraph.edges())\n",
    "\n",
    "net.show_buttons()\n",
    "net.show('subgraph.html')"
   ]
  },
  {
   "cell_type": "markdown",
   "metadata": {},
   "source": [
    "<hr></hr>"
   ]
  }
 ],
 "metadata": {
  "kernelspec": {
   "display_name": "Python 3",
   "language": "python",
   "name": "python3"
  },
  "language_info": {
   "codemirror_mode": {
    "name": "ipython",
    "version": 3
   },
   "file_extension": ".py",
   "mimetype": "text/x-python",
   "name": "python",
   "nbconvert_exporter": "python",
   "pygments_lexer": "ipython3",
   "version": "3.6.5"
  }
 },
 "nbformat": 4,
 "nbformat_minor": 2
}
